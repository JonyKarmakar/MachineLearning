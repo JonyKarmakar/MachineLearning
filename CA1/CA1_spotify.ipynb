{
 "cells": [
  {
   "cell_type": "markdown",
   "metadata": {},
   "source": [
    "# CA1: Dataframe Manipulation with Spotify Data\n",
    "### Jony Karmakar"
   ]
  },
  {
   "cell_type": "markdown",
   "metadata": {},
   "source": [
    "## Introduction\n",
    "Pandas is an extremely powerful tool to handle large amounts of tabular data. In this compulsory assignment, you will use Pandas to explore one of the TA's personal spotify data in depth. \\\n",
    "\\\n",
    "Additional information:\n",
    "- Feel free to create additional code cells if you feel that one cell per subtask is not sufficient.\n",
    "- Remember, Pandas uses very efficient code to handle large amounts of data. For-loops are not efficient. If you ever have to use a for-loop to loop over the rows in the DataFrame, you have *probably* done something wrong.\n",
    "- Label all graphs and charts if applicable."
   ]
  },
  {
   "cell_type": "markdown",
   "metadata": {},
   "source": [
    "## Task\n",
    "I typically enjoy indie and rock music. I am a big fan of everything from old-fashioned rock and roll like Led Zeppelin and Jimi Hendrix, to newer indie artists like Joji and Lana Del Rey. This is why my spotify wrapped for 2023 came as quite a surprise:"
   ]
  },
  {
   "cell_type": "markdown",
   "metadata": {},
   "source": [
    "<img src=\"spotifywrapped.PNG\" alt=\"Image Description\" width=\"20%\">\n"
   ]
  },
  {
   "cell_type": "markdown",
   "metadata": {},
   "source": [
    "Now, I'm no hater of pop music, but this was unexpected. \n",
    "For this assignment, you will investigate my listening habits, including a deep dive into my Ariana Grande listening habits, and try to find an answer to why she was my top artist; was there a fault in the spotify algorithm? Am I actually secretly an *Arianator*? (yes, I did have to look that up). Or am I just lying to myself about how often I listen to guilty pleasure music?"
   ]
  },
  {
   "cell_type": "markdown",
   "metadata": {},
   "source": [
    "## Part 1: Initial loading and exploration"
   ]
  },
  {
   "cell_type": "markdown",
   "metadata": {},
   "source": [
    "#### 1.0 Import necessary libraries: \n",
    "pandas, numpy, matplotlib.pyplot (other libraries such as seaborn or plotly are also allowed if you want prettier plots). It might also be a good idea to use **os** for task 2.0"
   ]
  },
  {
   "cell_type": "code",
   "execution_count": 181,
   "metadata": {},
   "outputs": [],
   "source": [
    "import matplotlib.pyplot as plt\n",
    "# ---- Insert other imports ----\n",
    "import pandas as pd\n",
    "import numpy as np\n",
    "import seaborn as sns"
   ]
  },
  {
   "cell_type": "markdown",
   "metadata": {},
   "source": [
    "#### 1.1 Loading the data\n",
    "Load the dataset in the file `streaming_history_0.csv` into a Pandas DataFrame called `df_spotify_0`."
   ]
  },
  {
   "cell_type": "code",
   "execution_count": 182,
   "metadata": {},
   "outputs": [],
   "source": [
    "# Loading the dataset \n",
    "\n",
    "df_spotify_0 = pd.read_csv('/Users/jony/DAT200/assignment/spotify_data/streaminghistory0.csv')"
   ]
  },
  {
   "cell_type": "markdown",
   "metadata": {},
   "source": [
    "#### 1.2 Help function\n",
    "Use the Python command `help` to help you understand how to use the `pd.DataFrame.head` and `pd.DataFrame.tail` methods."
   ]
  },
  {
   "cell_type": "code",
   "execution_count": 183,
   "metadata": {},
   "outputs": [
    {
     "name": "stdout",
     "output_type": "stream",
     "text": [
      "Help on function head in module pandas.core.generic:\n",
      "\n",
      "head(self, n: 'int' = 5) -> 'Self'\n",
      "    Return the first `n` rows.\n",
      "    \n",
      "    This function returns the first `n` rows for the object based\n",
      "    on position. It is useful for quickly testing if your object\n",
      "    has the right type of data in it.\n",
      "    \n",
      "    For negative values of `n`, this function returns all rows except\n",
      "    the last `|n|` rows, equivalent to ``df[:n]``.\n",
      "    \n",
      "    If n is larger than the number of rows, this function returns all rows.\n",
      "    \n",
      "    Parameters\n",
      "    ----------\n",
      "    n : int, default 5\n",
      "        Number of rows to select.\n",
      "    \n",
      "    Returns\n",
      "    -------\n",
      "    same type as caller\n",
      "        The first `n` rows of the caller object.\n",
      "    \n",
      "    See Also\n",
      "    --------\n",
      "    DataFrame.tail: Returns the last `n` rows.\n",
      "    \n",
      "    Examples\n",
      "    --------\n",
      "    >>> df = pd.DataFrame({'animal': ['alligator', 'bee', 'falcon', 'lion',\n",
      "    ...                    'monkey', 'parrot', 'shark', 'whale', 'zebra']})\n",
      "    >>> df\n",
      "          animal\n",
      "    0  alligator\n",
      "    1        bee\n",
      "    2     falcon\n",
      "    3       lion\n",
      "    4     monkey\n",
      "    5     parrot\n",
      "    6      shark\n",
      "    7      whale\n",
      "    8      zebra\n",
      "    \n",
      "    Viewing the first 5 lines\n",
      "    \n",
      "    >>> df.head()\n",
      "          animal\n",
      "    0  alligator\n",
      "    1        bee\n",
      "    2     falcon\n",
      "    3       lion\n",
      "    4     monkey\n",
      "    \n",
      "    Viewing the first `n` lines (three in this case)\n",
      "    \n",
      "    >>> df.head(3)\n",
      "          animal\n",
      "    0  alligator\n",
      "    1        bee\n",
      "    2     falcon\n",
      "    \n",
      "    For negative values of `n`\n",
      "    \n",
      "    >>> df.head(-3)\n",
      "          animal\n",
      "    0  alligator\n",
      "    1        bee\n",
      "    2     falcon\n",
      "    3       lion\n",
      "    4     monkey\n",
      "    5     parrot\n",
      "\n"
     ]
    }
   ],
   "source": [
    "# Using help command \n",
    "help(pd.DataFrame.head)"
   ]
  },
  {
   "cell_type": "code",
   "execution_count": 184,
   "metadata": {},
   "outputs": [
    {
     "name": "stdout",
     "output_type": "stream",
     "text": [
      "Help on function tail in module pandas.core.generic:\n",
      "\n",
      "tail(self, n: 'int' = 5) -> 'Self'\n",
      "    Return the last `n` rows.\n",
      "    \n",
      "    This function returns last `n` rows from the object based on\n",
      "    position. It is useful for quickly verifying data, for example,\n",
      "    after sorting or appending rows.\n",
      "    \n",
      "    For negative values of `n`, this function returns all rows except\n",
      "    the first `|n|` rows, equivalent to ``df[|n|:]``.\n",
      "    \n",
      "    If n is larger than the number of rows, this function returns all rows.\n",
      "    \n",
      "    Parameters\n",
      "    ----------\n",
      "    n : int, default 5\n",
      "        Number of rows to select.\n",
      "    \n",
      "    Returns\n",
      "    -------\n",
      "    type of caller\n",
      "        The last `n` rows of the caller object.\n",
      "    \n",
      "    See Also\n",
      "    --------\n",
      "    DataFrame.head : The first `n` rows of the caller object.\n",
      "    \n",
      "    Examples\n",
      "    --------\n",
      "    >>> df = pd.DataFrame({'animal': ['alligator', 'bee', 'falcon', 'lion',\n",
      "    ...                    'monkey', 'parrot', 'shark', 'whale', 'zebra']})\n",
      "    >>> df\n",
      "          animal\n",
      "    0  alligator\n",
      "    1        bee\n",
      "    2     falcon\n",
      "    3       lion\n",
      "    4     monkey\n",
      "    5     parrot\n",
      "    6      shark\n",
      "    7      whale\n",
      "    8      zebra\n",
      "    \n",
      "    Viewing the last 5 lines\n",
      "    \n",
      "    >>> df.tail()\n",
      "       animal\n",
      "    4  monkey\n",
      "    5  parrot\n",
      "    6   shark\n",
      "    7   whale\n",
      "    8   zebra\n",
      "    \n",
      "    Viewing the last `n` lines (three in this case)\n",
      "    \n",
      "    >>> df.tail(3)\n",
      "      animal\n",
      "    6  shark\n",
      "    7  whale\n",
      "    8  zebra\n",
      "    \n",
      "    For negative values of `n`\n",
      "    \n",
      "    >>> df.tail(-3)\n",
      "       animal\n",
      "    3    lion\n",
      "    4  monkey\n",
      "    5  parrot\n",
      "    6   shark\n",
      "    7   whale\n",
      "    8   zebra\n",
      "\n"
     ]
    }
   ],
   "source": [
    "# Using help command \n",
    "help(pd.DataFrame.tail)"
   ]
  },
  {
   "cell_type": "markdown",
   "metadata": {},
   "source": [
    "#### 1.3 Getting an overview\n",
    "Print the first `five` and last `ten` rows of the dataframe. Have a quick look at which columns are in the dataset. "
   ]
  },
  {
   "cell_type": "code",
   "execution_count": 185,
   "metadata": {},
   "outputs": [
    {
     "name": "stdout",
     "output_type": "stream",
     "text": [
      "            endTime            artistName                        trackName  \\\n",
      "0  2022-12-03 02:02  Cigarettes After Sex                            Truly   \n",
      "1  2022-12-03 02:02         Leonard Cohen  Take This Waltz - Paris Version   \n",
      "2  2022-12-06 21:05          Vlad Holiday                 So Damn Into You   \n",
      "3  2022-12-06 21:05                 Lorde                             Team   \n",
      "4  2022-12-06 21:05         Ariana Grande                         Into You   \n",
      "\n",
      "   msPlayed  \n",
      "0   30000.0  \n",
      "1    8210.0  \n",
      "2   37895.0  \n",
      "3    8984.0  \n",
      "4    1221.0  \n",
      "                endTime         artistName                     trackName  \\\n",
      "11949  2023-01-02 20:58      Ariana Grande                    six thirty   \n",
      "11950  2023-01-02 20:58      Leonard Cohen          Thanks for the Dance   \n",
      "11951  2023-01-02 20:59           Des Rocs          Used to the Darkness   \n",
      "11952  2023-01-02 20:59  Caroline Polachek         Hit Me Where It Hurts   \n",
      "11953  2023-01-02 20:59  Caroline Polachek         Hit Me Where It Hurts   \n",
      "11954  2023-01-02 20:59  Kaizers Orchestra                   Resistansen   \n",
      "11955  2023-01-02 20:59           Mr.Kitty                    After Dark   \n",
      "11956  2023-01-02 20:59       daddy's girl  after dark x sweater weather   \n",
      "11957  2023-01-02 20:59       daddy's girl  after dark x sweater weather   \n",
      "11958  2023-01-02 20:59       daddy's girl  after dark x sweater weather   \n",
      "\n",
      "       msPlayed  \n",
      "11949    1699.0  \n",
      "11950   19483.0  \n",
      "11951     185.0  \n",
      "11952     603.0  \n",
      "11953     208.0  \n",
      "11954     208.0  \n",
      "11955  101447.0  \n",
      "11956     301.0  \n",
      "11957     208.0  \n",
      "11958     789.0  \n"
     ]
    }
   ],
   "source": [
    "print(df_spotify_0.head())\n",
    "print(df_spotify_0.tail(10))"
   ]
  },
  {
   "cell_type": "markdown",
   "metadata": {},
   "source": [
    "#### 1.4 Formatting correctly\n",
    "When working with Pandas, it's very useful to have columns which contains dates in a specific format called *datetime*. This allows for efficient manipulation and analysis of time-series data, such as sorting, filtering by date or time, and resampling for different time periods. Figure out which column(s) would be appropriate to convert to datetime, if any, and if so, perform the conversion to the correct format."
   ]
  },
  {
   "cell_type": "code",
   "execution_count": 186,
   "metadata": {},
   "outputs": [],
   "source": [
    "# Formatting the endtime column to datatame dtype of pandas\n",
    "df_spotify_0['endTime'] = pd.to_datetime(df_spotify_0['endTime'])"
   ]
  },
  {
   "cell_type": "code",
   "execution_count": 187,
   "metadata": {},
   "outputs": [
    {
     "data": {
      "text/html": [
       "<div>\n",
       "<style scoped>\n",
       "    .dataframe tbody tr th:only-of-type {\n",
       "        vertical-align: middle;\n",
       "    }\n",
       "\n",
       "    .dataframe tbody tr th {\n",
       "        vertical-align: top;\n",
       "    }\n",
       "\n",
       "    .dataframe thead th {\n",
       "        text-align: right;\n",
       "    }\n",
       "</style>\n",
       "<table border=\"1\" class=\"dataframe\">\n",
       "  <thead>\n",
       "    <tr style=\"text-align: right;\">\n",
       "      <th></th>\n",
       "      <th>endTime</th>\n",
       "      <th>artistName</th>\n",
       "      <th>trackName</th>\n",
       "      <th>msPlayed</th>\n",
       "    </tr>\n",
       "  </thead>\n",
       "  <tbody>\n",
       "    <tr>\n",
       "      <th>0</th>\n",
       "      <td>2022-12-03 02:02:00</td>\n",
       "      <td>Cigarettes After Sex</td>\n",
       "      <td>Truly</td>\n",
       "      <td>30000.0</td>\n",
       "    </tr>\n",
       "    <tr>\n",
       "      <th>1</th>\n",
       "      <td>2022-12-03 02:02:00</td>\n",
       "      <td>Leonard Cohen</td>\n",
       "      <td>Take This Waltz - Paris Version</td>\n",
       "      <td>8210.0</td>\n",
       "    </tr>\n",
       "    <tr>\n",
       "      <th>2</th>\n",
       "      <td>2022-12-06 21:05:00</td>\n",
       "      <td>Vlad Holiday</td>\n",
       "      <td>So Damn Into You</td>\n",
       "      <td>37895.0</td>\n",
       "    </tr>\n",
       "    <tr>\n",
       "      <th>3</th>\n",
       "      <td>2022-12-06 21:05:00</td>\n",
       "      <td>Lorde</td>\n",
       "      <td>Team</td>\n",
       "      <td>8984.0</td>\n",
       "    </tr>\n",
       "    <tr>\n",
       "      <th>4</th>\n",
       "      <td>2022-12-06 21:05:00</td>\n",
       "      <td>Ariana Grande</td>\n",
       "      <td>Into You</td>\n",
       "      <td>1221.0</td>\n",
       "    </tr>\n",
       "  </tbody>\n",
       "</table>\n",
       "</div>"
      ],
      "text/plain": [
       "              endTime            artistName                        trackName  \\\n",
       "0 2022-12-03 02:02:00  Cigarettes After Sex                            Truly   \n",
       "1 2022-12-03 02:02:00         Leonard Cohen  Take This Waltz - Paris Version   \n",
       "2 2022-12-06 21:05:00          Vlad Holiday                 So Damn Into You   \n",
       "3 2022-12-06 21:05:00                 Lorde                             Team   \n",
       "4 2022-12-06 21:05:00         Ariana Grande                         Into You   \n",
       "\n",
       "   msPlayed  \n",
       "0   30000.0  \n",
       "1    8210.0  \n",
       "2   37895.0  \n",
       "3    8984.0  \n",
       "4    1221.0  "
      ]
     },
     "execution_count": 187,
     "metadata": {},
     "output_type": "execute_result"
    }
   ],
   "source": [
    "df_spotify_0.head()"
   ]
  },
  {
   "cell_type": "markdown",
   "metadata": {},
   "source": [
    "#### 1.5 Unique artists\n",
    "Find how many unique artists are in the dataset.\n"
   ]
  },
  {
   "cell_type": "code",
   "execution_count": 188,
   "metadata": {},
   "outputs": [
    {
     "name": "stdout",
     "output_type": "stream",
     "text": [
      "Total No. Unique Artist: 495\n"
     ]
    }
   ],
   "source": [
    "# Finding and showing the unique artists number\n",
    "artist_name = df_spotify_0['artistName'].unique()\n",
    "artist_name\n",
    "print(f'Total No. Unique Artist: {len(artist_name)}')"
   ]
  },
  {
   "cell_type": "markdown",
   "metadata": {},
   "source": [
    "#### 1.6 Unique songs\n",
    "Find how many unique songs are in the dataset."
   ]
  },
  {
   "cell_type": "code",
   "execution_count": 189,
   "metadata": {},
   "outputs": [
    {
     "name": "stdout",
     "output_type": "stream",
     "text": [
      "Total No. Unique Songs: 1308\n"
     ]
    },
    {
     "data": {
      "text/plain": [
       "1308"
      ]
     },
     "execution_count": 189,
     "metadata": {},
     "output_type": "execute_result"
    }
   ],
   "source": [
    "# Funding and showing the unique artists number\n",
    "songs_name = df_spotify_0['trackName'].unique()\n",
    "songs_name\n",
    "print(f'Total No. Unique Songs: {len(songs_name)}')\n",
    "len(songs_name)"
   ]
  },
  {
   "cell_type": "markdown",
   "metadata": {},
   "source": [
    "### Part 1: Questions\n",
    "Q1: Which columns are in the dataset? \\\n",
    "A1: There are 4 coulms in the dataset. \\\n",
    "a. endTime \\\n",
    "b. artistName \\\n",
    "c. trackName \\\n",
    "d. msPlayed \\\n",
    "Q2: What timeframe does the dataset span? \\\n",
    "A2: 2022-12-03 02:02  to 2023-01-02 20:59. \\\n",
    "Q3: How many unique artists are in the dataset? \\\n",
    "A3: 495 \\\n",
    "Q4: How many unique songs are in the dataset? \\\n",
    "A4: 1308"
   ]
  },
  {
   "cell_type": "markdown",
   "metadata": {},
   "source": [
    "## Part 2: Working with all the data"
   ]
  },
  {
   "cell_type": "markdown",
   "metadata": {},
   "source": [
    "#### 2.0 Importing all the dataframes\n",
    "In Task 1, you only worked with about a month worth of data. Now, you will work with over a year worth. \n",
    "\n",
    "In the *spotify_data* folder, there is more than just one listening record. Load each of the 14 listening records into a dataframe (1 dataframe per listening record), and concatenate them together into one large dataframe named `df`."
   ]
  },
  {
   "cell_type": "code",
   "execution_count": 190,
   "metadata": {},
   "outputs": [],
   "source": [
    "# Loading rest of the dataset\n",
    "df_spotify_1 = pd.read_csv('/Users/jony/DAT200/assignment/spotify_data/streaminghistory1.csv')\n",
    "df_spotify_2 = pd.read_csv('/Users/jony/DAT200/assignment/spotify_data/streaminghistory2.csv')\n",
    "df_spotify_3 = pd.read_csv('/Users/jony/DAT200/assignment/spotify_data/streaminghistory3.csv')\n",
    "df_spotify_4 = pd.read_csv('/Users/jony/DAT200/assignment/spotify_data/streaminghistory4.csv')\n",
    "df_spotify_5 = pd.read_csv('/Users/jony/DAT200/assignment/spotify_data/streaminghistory5.csv')\n",
    "df_spotify_6 = pd.read_csv('/Users/jony/DAT200/assignment/spotify_data/streaminghistory6.csv')\n",
    "df_spotify_7 = pd.read_csv('/Users/jony/DAT200/assignment/spotify_data/streaminghistory7.csv')\n",
    "df_spotify_8 = pd.read_csv('/Users/jony/DAT200/assignment/spotify_data/streaminghistory8.csv')\n",
    "df_spotify_9 = pd.read_csv('/Users/jony/DAT200/assignment/spotify_data/streaminghistory9.csv')\n",
    "df_spotify_10 = pd.read_csv('/Users/jony/DAT200/assignment/spotify_data/streaminghistory10.csv')\n",
    "df_spotify_11 = pd.read_csv('/Users/jony/DAT200/assignment/spotify_data/streaminghistory11.csv')\n",
    "df_spotify_12 = pd.read_csv('/Users/jony/DAT200/assignment/spotify_data/streaminghistory12.csv')\n",
    "df_spotify_13 = pd.read_csv('/Users/jony/DAT200/assignment/spotify_data/streaminghistory13.csv')"
   ]
  },
  {
   "cell_type": "code",
   "execution_count": 191,
   "metadata": {},
   "outputs": [],
   "source": [
    "# Formatting the endTime dtype to datetime\n",
    "df_spotify_1['endTime'] = pd.to_datetime(df_spotify_1['endTime'])\n",
    "df_spotify_2['endTime'] = pd.to_datetime(df_spotify_2['endTime'])\n",
    "df_spotify_3['endTime'] = pd.to_datetime(df_spotify_3['endTime'])\n",
    "df_spotify_4['endTime'] = pd.to_datetime(df_spotify_4['endTime'])\n",
    "df_spotify_5['endTime'] = pd.to_datetime(df_spotify_5['endTime'])\n",
    "df_spotify_6['endTime'] = pd.to_datetime(df_spotify_6['endTime'])\n",
    "df_spotify_7['endTime'] = pd.to_datetime(df_spotify_7['endTime'])\n",
    "df_spotify_8['endTime'] = pd.to_datetime(df_spotify_8['endTime'])\n",
    "df_spotify_9['endTime'] = pd.to_datetime(df_spotify_9['endTime'])\n",
    "df_spotify_10['endTime'] = pd.to_datetime(df_spotify_10['endTime'])\n",
    "df_spotify_11['endTime'] = pd.to_datetime(df_spotify_11['endTime'])\n",
    "df_spotify_12['endTime'] = pd.to_datetime(df_spotify_12['endTime'])\n",
    "df_spotify_13['endTime'] = pd.to_datetime(df_spotify_13['endTime'])"
   ]
  },
  {
   "cell_type": "code",
   "execution_count": 192,
   "metadata": {},
   "outputs": [],
   "source": [
    "# Making the list of the whole dataframe\n",
    "dataframes = [df_spotify_0, df_spotify_1, df_spotify_2, df_spotify_3, df_spotify_4, df_spotify_5,\n",
    "              df_spotify_6, df_spotify_7, df_spotify_8, df_spotify_9, df_spotify_10,\n",
    "              df_spotify_11, df_spotify_12, df_spotify_13]\n",
    "\n",
    "# Concatenating the all dataframe in df\n",
    "df = pd.concat(dataframes, ignore_index=True)"
   ]
  },
  {
   "cell_type": "code",
   "execution_count": 193,
   "metadata": {},
   "outputs": [
    {
     "data": {
      "text/html": [
       "<div>\n",
       "<style scoped>\n",
       "    .dataframe tbody tr th:only-of-type {\n",
       "        vertical-align: middle;\n",
       "    }\n",
       "\n",
       "    .dataframe tbody tr th {\n",
       "        vertical-align: top;\n",
       "    }\n",
       "\n",
       "    .dataframe thead th {\n",
       "        text-align: right;\n",
       "    }\n",
       "</style>\n",
       "<table border=\"1\" class=\"dataframe\">\n",
       "  <thead>\n",
       "    <tr style=\"text-align: right;\">\n",
       "      <th></th>\n",
       "      <th>endTime</th>\n",
       "      <th>artistName</th>\n",
       "      <th>trackName</th>\n",
       "      <th>msPlayed</th>\n",
       "    </tr>\n",
       "  </thead>\n",
       "  <tbody>\n",
       "    <tr>\n",
       "      <th>0</th>\n",
       "      <td>2022-12-03 02:02:00</td>\n",
       "      <td>Cigarettes After Sex</td>\n",
       "      <td>Truly</td>\n",
       "      <td>30000.0</td>\n",
       "    </tr>\n",
       "    <tr>\n",
       "      <th>1</th>\n",
       "      <td>2022-12-03 02:02:00</td>\n",
       "      <td>Leonard Cohen</td>\n",
       "      <td>Take This Waltz - Paris Version</td>\n",
       "      <td>8210.0</td>\n",
       "    </tr>\n",
       "    <tr>\n",
       "      <th>2</th>\n",
       "      <td>2022-12-06 21:05:00</td>\n",
       "      <td>Vlad Holiday</td>\n",
       "      <td>So Damn Into You</td>\n",
       "      <td>37895.0</td>\n",
       "    </tr>\n",
       "    <tr>\n",
       "      <th>3</th>\n",
       "      <td>2022-12-06 21:05:00</td>\n",
       "      <td>Lorde</td>\n",
       "      <td>Team</td>\n",
       "      <td>8984.0</td>\n",
       "    </tr>\n",
       "    <tr>\n",
       "      <th>4</th>\n",
       "      <td>2022-12-06 21:05:00</td>\n",
       "      <td>Ariana Grande</td>\n",
       "      <td>Into You</td>\n",
       "      <td>1221.0</td>\n",
       "    </tr>\n",
       "    <tr>\n",
       "      <th>5</th>\n",
       "      <td>2022-12-07 00:21:00</td>\n",
       "      <td>Caroline Polachek</td>\n",
       "      <td>Hit Me Where It Hurts</td>\n",
       "      <td>1648.0</td>\n",
       "    </tr>\n",
       "    <tr>\n",
       "      <th>6</th>\n",
       "      <td>2022-12-07 00:21:00</td>\n",
       "      <td>Kaizers Orchestra</td>\n",
       "      <td>Prosessen</td>\n",
       "      <td>348.0</td>\n",
       "    </tr>\n",
       "    <tr>\n",
       "      <th>7</th>\n",
       "      <td>2022-12-07 00:21:00</td>\n",
       "      <td>Vlad Holiday</td>\n",
       "      <td>So Damn Into You</td>\n",
       "      <td>1555.0</td>\n",
       "    </tr>\n",
       "    <tr>\n",
       "      <th>8</th>\n",
       "      <td>2022-12-07 00:21:00</td>\n",
       "      <td>Vlad Holiday</td>\n",
       "      <td>So Damn Into You</td>\n",
       "      <td>1486.0</td>\n",
       "    </tr>\n",
       "    <tr>\n",
       "      <th>9</th>\n",
       "      <td>2022-12-07 00:21:00</td>\n",
       "      <td>Ariana Grande</td>\n",
       "      <td>Best Mistake</td>\n",
       "      <td>8824.0</td>\n",
       "    </tr>\n",
       "    <tr>\n",
       "      <th>10</th>\n",
       "      <td>2022-12-07 00:21:00</td>\n",
       "      <td>Pastel Ghost</td>\n",
       "      <td>Dark Beach</td>\n",
       "      <td>23518.0</td>\n",
       "    </tr>\n",
       "    <tr>\n",
       "      <th>11</th>\n",
       "      <td>2022-12-07 00:25:00</td>\n",
       "      <td>Caroline Polachek</td>\n",
       "      <td>Hit Me Where It Hurts</td>\n",
       "      <td>1044.0</td>\n",
       "    </tr>\n",
       "    <tr>\n",
       "      <th>12</th>\n",
       "      <td>2022-12-07 00:25:00</td>\n",
       "      <td>BØRNS</td>\n",
       "      <td>Clouds</td>\n",
       "      <td>3459.0</td>\n",
       "    </tr>\n",
       "    <tr>\n",
       "      <th>13</th>\n",
       "      <td>2022-12-07 00:25:00</td>\n",
       "      <td>Vlad Holiday</td>\n",
       "      <td>So Damn Into You</td>\n",
       "      <td>170086.0</td>\n",
       "    </tr>\n",
       "    <tr>\n",
       "      <th>14</th>\n",
       "      <td>2022-12-07 00:25:00</td>\n",
       "      <td>Kaizers Orchestra</td>\n",
       "      <td>Prosessen</td>\n",
       "      <td>1904.0</td>\n",
       "    </tr>\n",
       "    <tr>\n",
       "      <th>15</th>\n",
       "      <td>2022-12-07 00:25:00</td>\n",
       "      <td>Ariana Grande</td>\n",
       "      <td>Just A Little Bit Of Your Heart</td>\n",
       "      <td>557.0</td>\n",
       "    </tr>\n",
       "    <tr>\n",
       "      <th>16</th>\n",
       "      <td>2022-12-07 00:25:00</td>\n",
       "      <td>BØRNS</td>\n",
       "      <td>Seeing Stars</td>\n",
       "      <td>6145.0</td>\n",
       "    </tr>\n",
       "    <tr>\n",
       "      <th>17</th>\n",
       "      <td>2022-12-07 00:25:00</td>\n",
       "      <td>Ariana Grande</td>\n",
       "      <td>safety net (feat. Ty Dolla $ign)</td>\n",
       "      <td>17838.0</td>\n",
       "    </tr>\n",
       "    <tr>\n",
       "      <th>18</th>\n",
       "      <td>2022-12-07 00:25:00</td>\n",
       "      <td>Royal Deluxe</td>\n",
       "      <td>I'm A Wanted Man</td>\n",
       "      <td>16152.0</td>\n",
       "    </tr>\n",
       "    <tr>\n",
       "      <th>19</th>\n",
       "      <td>2022-12-07 00:26:00</td>\n",
       "      <td>The Fratellis</td>\n",
       "      <td>She's Not Gone Yet But She's Leaving</td>\n",
       "      <td>48715.0</td>\n",
       "    </tr>\n",
       "  </tbody>\n",
       "</table>\n",
       "</div>"
      ],
      "text/plain": [
       "               endTime            artistName  \\\n",
       "0  2022-12-03 02:02:00  Cigarettes After Sex   \n",
       "1  2022-12-03 02:02:00         Leonard Cohen   \n",
       "2  2022-12-06 21:05:00          Vlad Holiday   \n",
       "3  2022-12-06 21:05:00                 Lorde   \n",
       "4  2022-12-06 21:05:00         Ariana Grande   \n",
       "5  2022-12-07 00:21:00     Caroline Polachek   \n",
       "6  2022-12-07 00:21:00     Kaizers Orchestra   \n",
       "7  2022-12-07 00:21:00          Vlad Holiday   \n",
       "8  2022-12-07 00:21:00          Vlad Holiday   \n",
       "9  2022-12-07 00:21:00         Ariana Grande   \n",
       "10 2022-12-07 00:21:00          Pastel Ghost   \n",
       "11 2022-12-07 00:25:00     Caroline Polachek   \n",
       "12 2022-12-07 00:25:00                 BØRNS   \n",
       "13 2022-12-07 00:25:00          Vlad Holiday   \n",
       "14 2022-12-07 00:25:00     Kaizers Orchestra   \n",
       "15 2022-12-07 00:25:00         Ariana Grande   \n",
       "16 2022-12-07 00:25:00                 BØRNS   \n",
       "17 2022-12-07 00:25:00         Ariana Grande   \n",
       "18 2022-12-07 00:25:00          Royal Deluxe   \n",
       "19 2022-12-07 00:26:00         The Fratellis   \n",
       "\n",
       "                               trackName  msPlayed  \n",
       "0                                  Truly   30000.0  \n",
       "1        Take This Waltz - Paris Version    8210.0  \n",
       "2                       So Damn Into You   37895.0  \n",
       "3                                   Team    8984.0  \n",
       "4                               Into You    1221.0  \n",
       "5                  Hit Me Where It Hurts    1648.0  \n",
       "6                              Prosessen     348.0  \n",
       "7                       So Damn Into You    1555.0  \n",
       "8                       So Damn Into You    1486.0  \n",
       "9                           Best Mistake    8824.0  \n",
       "10                            Dark Beach   23518.0  \n",
       "11                 Hit Me Where It Hurts    1044.0  \n",
       "12                                Clouds    3459.0  \n",
       "13                      So Damn Into You  170086.0  \n",
       "14                             Prosessen    1904.0  \n",
       "15       Just A Little Bit Of Your Heart     557.0  \n",
       "16                          Seeing Stars    6145.0  \n",
       "17      safety net (feat. Ty Dolla $ign)   17838.0  \n",
       "18                      I'm A Wanted Man   16152.0  \n",
       "19  She's Not Gone Yet But She's Leaving   48715.0  "
      ]
     },
     "execution_count": 193,
     "metadata": {},
     "output_type": "execute_result"
    }
   ],
   "source": [
    "df.head(20)"
   ]
  },
  {
   "cell_type": "markdown",
   "metadata": {},
   "source": [
    "#### 2.1 Sorting by time\n",
    "Datasets often aren't perfect. One example of an issue that could occur is that the time-based data might not be in chronological order. If this were to happen, the rows in your dataframe could be in the wrong order. To ensure this isn't an issue in your dataframe, you should sort the dataframe in chronological order, from oldest to newest."
   ]
  },
  {
   "cell_type": "code",
   "execution_count": 194,
   "metadata": {},
   "outputs": [],
   "source": [
    "# Sorting the dataframe based on the endTime column\n",
    "df = df.sort_values('endTime', ascending=True)"
   ]
  },
  {
   "cell_type": "markdown",
   "metadata": {},
   "source": [
    "#### 2.2 Setting a timeframe\n",
    "For this investigation, we are only interested in investigating listening patterns from **2023**. Remove any data not from **2023** from the DataFrame."
   ]
  },
  {
   "cell_type": "code",
   "execution_count": 195,
   "metadata": {},
   "outputs": [],
   "source": [
    "# Taking data of only 2023 to new dataframe\n",
    "df2 = df[df['endTime'].dt.year == 2023]"
   ]
  },
  {
   "cell_type": "code",
   "execution_count": 196,
   "metadata": {},
   "outputs": [
    {
     "data": {
      "text/html": [
       "<div>\n",
       "<style scoped>\n",
       "    .dataframe tbody tr th:only-of-type {\n",
       "        vertical-align: middle;\n",
       "    }\n",
       "\n",
       "    .dataframe tbody tr th {\n",
       "        vertical-align: top;\n",
       "    }\n",
       "\n",
       "    .dataframe thead th {\n",
       "        text-align: right;\n",
       "    }\n",
       "</style>\n",
       "<table border=\"1\" class=\"dataframe\">\n",
       "  <thead>\n",
       "    <tr style=\"text-align: right;\">\n",
       "      <th></th>\n",
       "      <th>endTime</th>\n",
       "      <th>artistName</th>\n",
       "      <th>trackName</th>\n",
       "      <th>msPlayed</th>\n",
       "    </tr>\n",
       "  </thead>\n",
       "  <tbody>\n",
       "    <tr>\n",
       "      <th>10881</th>\n",
       "      <td>2023-01-01 01:17:00</td>\n",
       "      <td>Ariana Grande</td>\n",
       "      <td>7 rings</td>\n",
       "      <td>139.0</td>\n",
       "    </tr>\n",
       "    <tr>\n",
       "      <th>10882</th>\n",
       "      <td>2023-01-01 01:17:00</td>\n",
       "      <td>Ariana Grande</td>\n",
       "      <td>7 rings</td>\n",
       "      <td>487.0</td>\n",
       "    </tr>\n",
       "    <tr>\n",
       "      <th>10883</th>\n",
       "      <td>2023-01-01 01:17:00</td>\n",
       "      <td>Ariana Grande</td>\n",
       "      <td>positions</td>\n",
       "      <td>417.0</td>\n",
       "    </tr>\n",
       "    <tr>\n",
       "      <th>10884</th>\n",
       "      <td>2023-01-01 01:17:00</td>\n",
       "      <td>Peach Pit</td>\n",
       "      <td>Being so Normal</td>\n",
       "      <td>2205.0</td>\n",
       "    </tr>\n",
       "    <tr>\n",
       "      <th>10885</th>\n",
       "      <td>2023-01-01 01:17:00</td>\n",
       "      <td>Kelly Clarkson</td>\n",
       "      <td>Santa, Can’t You Hear Me</td>\n",
       "      <td>278.0</td>\n",
       "    </tr>\n",
       "    <tr>\n",
       "      <th>10886</th>\n",
       "      <td>2023-01-01 01:17:00</td>\n",
       "      <td>Kelly Clarkson</td>\n",
       "      <td>Santa, Can’t You Hear Me</td>\n",
       "      <td>325.0</td>\n",
       "    </tr>\n",
       "    <tr>\n",
       "      <th>10887</th>\n",
       "      <td>2023-01-01 01:17:00</td>\n",
       "      <td>Ariana Grande</td>\n",
       "      <td>Santa Baby</td>\n",
       "      <td>12293.0</td>\n",
       "    </tr>\n",
       "    <tr>\n",
       "      <th>10888</th>\n",
       "      <td>2023-01-01 01:17:00</td>\n",
       "      <td>Ariana Grande</td>\n",
       "      <td>Right There (feat. Big Sean)</td>\n",
       "      <td>22929.0</td>\n",
       "    </tr>\n",
       "    <tr>\n",
       "      <th>10893</th>\n",
       "      <td>2023-01-01 01:19:00</td>\n",
       "      <td>Regina Spektor</td>\n",
       "      <td>Us - 2005 Remaster</td>\n",
       "      <td>16670.0</td>\n",
       "    </tr>\n",
       "    <tr>\n",
       "      <th>10892</th>\n",
       "      <td>2023-01-01 01:19:00</td>\n",
       "      <td>Lorde</td>\n",
       "      <td>Solar Power</td>\n",
       "      <td>464.0</td>\n",
       "    </tr>\n",
       "    <tr>\n",
       "      <th>10891</th>\n",
       "      <td>2023-01-01 01:19:00</td>\n",
       "      <td>Lorde</td>\n",
       "      <td>Team</td>\n",
       "      <td>371.0</td>\n",
       "    </tr>\n",
       "    <tr>\n",
       "      <th>10890</th>\n",
       "      <td>2023-01-01 01:19:00</td>\n",
       "      <td>Fools Garden</td>\n",
       "      <td>Lemon Tree</td>\n",
       "      <td>301.0</td>\n",
       "    </tr>\n",
       "    <tr>\n",
       "      <th>10889</th>\n",
       "      <td>2023-01-01 01:19:00</td>\n",
       "      <td>The Neighbourhood</td>\n",
       "      <td>A Moment of Silence</td>\n",
       "      <td>118932.0</td>\n",
       "    </tr>\n",
       "    <tr>\n",
       "      <th>10913</th>\n",
       "      <td>2023-01-01 01:21:00</td>\n",
       "      <td>Marvin Gaye</td>\n",
       "      <td>Right On</td>\n",
       "      <td>15904.0</td>\n",
       "    </tr>\n",
       "    <tr>\n",
       "      <th>10912</th>\n",
       "      <td>2023-01-01 01:21:00</td>\n",
       "      <td>Cage The Elephant</td>\n",
       "      <td>That's Right</td>\n",
       "      <td>14745.0</td>\n",
       "    </tr>\n",
       "    <tr>\n",
       "      <th>10911</th>\n",
       "      <td>2023-01-01 01:21:00</td>\n",
       "      <td>Kaizers Orchestra</td>\n",
       "      <td>Hjerteknuser</td>\n",
       "      <td>534.0</td>\n",
       "    </tr>\n",
       "    <tr>\n",
       "      <th>10910</th>\n",
       "      <td>2023-01-01 01:21:00</td>\n",
       "      <td>MARBLES</td>\n",
       "      <td>I'm Not Ready</td>\n",
       "      <td>441.0</td>\n",
       "    </tr>\n",
       "    <tr>\n",
       "      <th>10909</th>\n",
       "      <td>2023-01-01 01:21:00</td>\n",
       "      <td>Lorde</td>\n",
       "      <td>Team</td>\n",
       "      <td>905.0</td>\n",
       "    </tr>\n",
       "    <tr>\n",
       "      <th>10908</th>\n",
       "      <td>2023-01-01 01:21:00</td>\n",
       "      <td>The Smiths</td>\n",
       "      <td>Heaven Knows I'm Miserable Now - 2011 Remaster</td>\n",
       "      <td>1184.0</td>\n",
       "    </tr>\n",
       "    <tr>\n",
       "      <th>10907</th>\n",
       "      <td>2023-01-01 01:21:00</td>\n",
       "      <td>The Smiths</td>\n",
       "      <td>Heaven Knows I'm Miserable Now - 2011 Remaster</td>\n",
       "      <td>719.0</td>\n",
       "    </tr>\n",
       "  </tbody>\n",
       "</table>\n",
       "</div>"
      ],
      "text/plain": [
       "                  endTime         artistName  \\\n",
       "10881 2023-01-01 01:17:00      Ariana Grande   \n",
       "10882 2023-01-01 01:17:00      Ariana Grande   \n",
       "10883 2023-01-01 01:17:00      Ariana Grande   \n",
       "10884 2023-01-01 01:17:00          Peach Pit   \n",
       "10885 2023-01-01 01:17:00     Kelly Clarkson   \n",
       "10886 2023-01-01 01:17:00     Kelly Clarkson   \n",
       "10887 2023-01-01 01:17:00      Ariana Grande   \n",
       "10888 2023-01-01 01:17:00      Ariana Grande   \n",
       "10893 2023-01-01 01:19:00     Regina Spektor   \n",
       "10892 2023-01-01 01:19:00              Lorde   \n",
       "10891 2023-01-01 01:19:00              Lorde   \n",
       "10890 2023-01-01 01:19:00       Fools Garden   \n",
       "10889 2023-01-01 01:19:00  The Neighbourhood   \n",
       "10913 2023-01-01 01:21:00        Marvin Gaye   \n",
       "10912 2023-01-01 01:21:00  Cage The Elephant   \n",
       "10911 2023-01-01 01:21:00  Kaizers Orchestra   \n",
       "10910 2023-01-01 01:21:00            MARBLES   \n",
       "10909 2023-01-01 01:21:00              Lorde   \n",
       "10908 2023-01-01 01:21:00         The Smiths   \n",
       "10907 2023-01-01 01:21:00         The Smiths   \n",
       "\n",
       "                                            trackName  msPlayed  \n",
       "10881                                         7 rings     139.0  \n",
       "10882                                         7 rings     487.0  \n",
       "10883                                       positions     417.0  \n",
       "10884                                 Being so Normal    2205.0  \n",
       "10885                        Santa, Can’t You Hear Me     278.0  \n",
       "10886                        Santa, Can’t You Hear Me     325.0  \n",
       "10887                                      Santa Baby   12293.0  \n",
       "10888                    Right There (feat. Big Sean)   22929.0  \n",
       "10893                              Us - 2005 Remaster   16670.0  \n",
       "10892                                     Solar Power     464.0  \n",
       "10891                                            Team     371.0  \n",
       "10890                                      Lemon Tree     301.0  \n",
       "10889                             A Moment of Silence  118932.0  \n",
       "10913                                        Right On   15904.0  \n",
       "10912                                    That's Right   14745.0  \n",
       "10911                                    Hjerteknuser     534.0  \n",
       "10910                                   I'm Not Ready     441.0  \n",
       "10909                                            Team     905.0  \n",
       "10908  Heaven Knows I'm Miserable Now - 2011 Remaster    1184.0  \n",
       "10907  Heaven Knows I'm Miserable Now - 2011 Remaster     719.0  "
      ]
     },
     "execution_count": 196,
     "metadata": {},
     "output_type": "execute_result"
    }
   ],
   "source": [
    "df2.head(20)"
   ]
  },
  {
   "cell_type": "code",
   "execution_count": 197,
   "metadata": {},
   "outputs": [
    {
     "data": {
      "text/html": [
       "<div>\n",
       "<style scoped>\n",
       "    .dataframe tbody tr th:only-of-type {\n",
       "        vertical-align: middle;\n",
       "    }\n",
       "\n",
       "    .dataframe tbody tr th {\n",
       "        vertical-align: top;\n",
       "    }\n",
       "\n",
       "    .dataframe thead th {\n",
       "        text-align: right;\n",
       "    }\n",
       "</style>\n",
       "<table border=\"1\" class=\"dataframe\">\n",
       "  <thead>\n",
       "    <tr style=\"text-align: right;\">\n",
       "      <th></th>\n",
       "      <th>endTime</th>\n",
       "      <th>artistName</th>\n",
       "      <th>trackName</th>\n",
       "      <th>msPlayed</th>\n",
       "    </tr>\n",
       "  </thead>\n",
       "  <tbody>\n",
       "    <tr>\n",
       "      <th>167419</th>\n",
       "      <td>2023-12-07 20:49:00</td>\n",
       "      <td>Lana Del Rey</td>\n",
       "      <td>Radio</td>\n",
       "      <td>214573.0</td>\n",
       "    </tr>\n",
       "    <tr>\n",
       "      <th>167420</th>\n",
       "      <td>2023-12-07 20:51:00</td>\n",
       "      <td>Mitski</td>\n",
       "      <td>Washing Machine Heart</td>\n",
       "      <td>128198.0</td>\n",
       "    </tr>\n",
       "    <tr>\n",
       "      <th>167421</th>\n",
       "      <td>2023-12-07 20:51:00</td>\n",
       "      <td>Pastel Ghost</td>\n",
       "      <td>Dark Beach</td>\n",
       "      <td>19752.0</td>\n",
       "    </tr>\n",
       "    <tr>\n",
       "      <th>167422</th>\n",
       "      <td>2023-12-07 20:51:00</td>\n",
       "      <td>Ariana Grande</td>\n",
       "      <td>needy</td>\n",
       "      <td>26220.0</td>\n",
       "    </tr>\n",
       "    <tr>\n",
       "      <th>167423</th>\n",
       "      <td>2023-12-07 21:12:00</td>\n",
       "      <td>Tame Impala</td>\n",
       "      <td>Eventually</td>\n",
       "      <td>318591.0</td>\n",
       "    </tr>\n",
       "    <tr>\n",
       "      <th>167424</th>\n",
       "      <td>2023-12-07 21:12:00</td>\n",
       "      <td>U2</td>\n",
       "      <td>With Or Without You</td>\n",
       "      <td>13626.0</td>\n",
       "    </tr>\n",
       "    <tr>\n",
       "      <th>167425</th>\n",
       "      <td>2023-12-07 21:12:00</td>\n",
       "      <td>grandson</td>\n",
       "      <td>Darkside</td>\n",
       "      <td>5404.0</td>\n",
       "    </tr>\n",
       "    <tr>\n",
       "      <th>167432</th>\n",
       "      <td>2023-12-07 21:13:00</td>\n",
       "      <td>Arctic Monkeys</td>\n",
       "      <td>Snap Out Of It</td>\n",
       "      <td>615.0</td>\n",
       "    </tr>\n",
       "    <tr>\n",
       "      <th>167431</th>\n",
       "      <td>2023-12-07 21:13:00</td>\n",
       "      <td>Lana Del Rey</td>\n",
       "      <td>Ride</td>\n",
       "      <td>1126.0</td>\n",
       "    </tr>\n",
       "    <tr>\n",
       "      <th>167433</th>\n",
       "      <td>2023-12-07 21:13:00</td>\n",
       "      <td>Childish Gambino</td>\n",
       "      <td>Les</td>\n",
       "      <td>2484.0</td>\n",
       "    </tr>\n",
       "    <tr>\n",
       "      <th>167430</th>\n",
       "      <td>2023-12-07 21:13:00</td>\n",
       "      <td>Lana Del Rey</td>\n",
       "      <td>Ride</td>\n",
       "      <td>859.0</td>\n",
       "    </tr>\n",
       "    <tr>\n",
       "      <th>167434</th>\n",
       "      <td>2023-12-07 21:13:00</td>\n",
       "      <td>Lana Del Rey</td>\n",
       "      <td>Art Deco</td>\n",
       "      <td>38298.0</td>\n",
       "    </tr>\n",
       "    <tr>\n",
       "      <th>167428</th>\n",
       "      <td>2023-12-07 21:13:00</td>\n",
       "      <td>Ariana Grande</td>\n",
       "      <td>pete davidson</td>\n",
       "      <td>603.0</td>\n",
       "    </tr>\n",
       "    <tr>\n",
       "      <th>167427</th>\n",
       "      <td>2023-12-07 21:13:00</td>\n",
       "      <td>Labrinth</td>\n",
       "      <td>Formula</td>\n",
       "      <td>882.0</td>\n",
       "    </tr>\n",
       "    <tr>\n",
       "      <th>167426</th>\n",
       "      <td>2023-12-07 21:13:00</td>\n",
       "      <td>Lana Del Rey</td>\n",
       "      <td>Young And Beautiful</td>\n",
       "      <td>3146.0</td>\n",
       "    </tr>\n",
       "    <tr>\n",
       "      <th>167429</th>\n",
       "      <td>2023-12-07 21:13:00</td>\n",
       "      <td>Arctic Monkeys</td>\n",
       "      <td>Snap Out Of It</td>\n",
       "      <td>1497.0</td>\n",
       "    </tr>\n",
       "    <tr>\n",
       "      <th>167435</th>\n",
       "      <td>2023-12-07 21:13:00</td>\n",
       "      <td>Ariana Grande</td>\n",
       "      <td>off the table (with The Weeknd)</td>\n",
       "      <td>13448.0</td>\n",
       "    </tr>\n",
       "    <tr>\n",
       "      <th>167437</th>\n",
       "      <td>2023-12-07 21:14:00</td>\n",
       "      <td>Leonard Cohen</td>\n",
       "      <td>Thanks for the Dance</td>\n",
       "      <td>9317.0</td>\n",
       "    </tr>\n",
       "    <tr>\n",
       "      <th>167436</th>\n",
       "      <td>2023-12-07 21:14:00</td>\n",
       "      <td>Ariana Grande</td>\n",
       "      <td>my hair</td>\n",
       "      <td>23757.0</td>\n",
       "    </tr>\n",
       "    <tr>\n",
       "      <th>167438</th>\n",
       "      <td>2023-12-07 21:17:00</td>\n",
       "      <td>The Vaccines</td>\n",
       "      <td>Your Love Is My Favourite Band</td>\n",
       "      <td>14661.0</td>\n",
       "    </tr>\n",
       "  </tbody>\n",
       "</table>\n",
       "</div>"
      ],
      "text/plain": [
       "                   endTime        artistName                        trackName  \\\n",
       "167419 2023-12-07 20:49:00      Lana Del Rey                            Radio   \n",
       "167420 2023-12-07 20:51:00            Mitski            Washing Machine Heart   \n",
       "167421 2023-12-07 20:51:00      Pastel Ghost                       Dark Beach   \n",
       "167422 2023-12-07 20:51:00     Ariana Grande                            needy   \n",
       "167423 2023-12-07 21:12:00       Tame Impala                       Eventually   \n",
       "167424 2023-12-07 21:12:00                U2              With Or Without You   \n",
       "167425 2023-12-07 21:12:00          grandson                         Darkside   \n",
       "167432 2023-12-07 21:13:00    Arctic Monkeys                   Snap Out Of It   \n",
       "167431 2023-12-07 21:13:00      Lana Del Rey                             Ride   \n",
       "167433 2023-12-07 21:13:00  Childish Gambino                              Les   \n",
       "167430 2023-12-07 21:13:00      Lana Del Rey                             Ride   \n",
       "167434 2023-12-07 21:13:00      Lana Del Rey                         Art Deco   \n",
       "167428 2023-12-07 21:13:00     Ariana Grande                    pete davidson   \n",
       "167427 2023-12-07 21:13:00          Labrinth                          Formula   \n",
       "167426 2023-12-07 21:13:00      Lana Del Rey              Young And Beautiful   \n",
       "167429 2023-12-07 21:13:00    Arctic Monkeys                   Snap Out Of It   \n",
       "167435 2023-12-07 21:13:00     Ariana Grande  off the table (with The Weeknd)   \n",
       "167437 2023-12-07 21:14:00     Leonard Cohen             Thanks for the Dance   \n",
       "167436 2023-12-07 21:14:00     Ariana Grande                          my hair   \n",
       "167438 2023-12-07 21:17:00      The Vaccines   Your Love Is My Favourite Band   \n",
       "\n",
       "        msPlayed  \n",
       "167419  214573.0  \n",
       "167420  128198.0  \n",
       "167421   19752.0  \n",
       "167422   26220.0  \n",
       "167423  318591.0  \n",
       "167424   13626.0  \n",
       "167425    5404.0  \n",
       "167432     615.0  \n",
       "167431    1126.0  \n",
       "167433    2484.0  \n",
       "167430     859.0  \n",
       "167434   38298.0  \n",
       "167428     603.0  \n",
       "167427     882.0  \n",
       "167426    3146.0  \n",
       "167429    1497.0  \n",
       "167435   13448.0  \n",
       "167437    9317.0  \n",
       "167436   23757.0  \n",
       "167438   14661.0  "
      ]
     },
     "execution_count": 197,
     "metadata": {},
     "output_type": "execute_result"
    }
   ],
   "source": [
    "df2.tail(20)"
   ]
  },
  {
   "cell_type": "markdown",
   "metadata": {},
   "source": [
    "#### 2.3 Deleting rows\n",
    "Often in Data Science, you will encounter when a row entry has the value *NaN*, indicating missing data. These entries can skew your analysis, leading to inaccurate conclusions. For this task, identify and remove any rows in your DataFrame that contain NaN values. \\\n",
    "Later in the course, you might encounter other techniques of dealing with missing data, typically reffered to as *data imputation*. Here, though, you are just supposed to delete the entire rows with missing data."
   ]
  },
  {
   "cell_type": "code",
   "execution_count": 198,
   "metadata": {},
   "outputs": [
    {
     "name": "stdout",
     "output_type": "stream",
     "text": [
      "Number of null values: 18\n"
     ]
    }
   ],
   "source": [
    "# Looking is there any null values in the dataframe or not\n",
    "null_count = df2.isnull().sum().sum()\n",
    "print('Number of null values:', null_count)"
   ]
  },
  {
   "cell_type": "code",
   "execution_count": 199,
   "metadata": {},
   "outputs": [],
   "source": [
    "# Removing the row wilth null values and storing in a different dataframe\n",
    "df3 = df2.dropna()"
   ]
  },
  {
   "cell_type": "code",
   "execution_count": 200,
   "metadata": {},
   "outputs": [
    {
     "name": "stdout",
     "output_type": "stream",
     "text": [
      "Number of null values: 0\n"
     ]
    }
   ],
   "source": [
    "# Again checking is there any null values in the dataframe or not\n",
    "null_count = df3.isnull().sum().sum()\n",
    "print('Number of null values:', null_count)"
   ]
  },
  {
   "cell_type": "markdown",
   "metadata": {},
   "source": [
    "#### 2.4 Convert from milliseconds to seconds\n",
    "From `msPlayed`, create a new column `secPlayed` with the data converted from milliseconds to seconds. Then delete the column `msPlayed`."
   ]
  },
  {
   "cell_type": "code",
   "execution_count": 201,
   "metadata": {},
   "outputs": [],
   "source": [
    "# Adding new column named secPlayed which is conversion of miliseconds to seconds\n",
    "\n",
    "secPlayed = []\n",
    "\n",
    "for i in df3['msPlayed']:\n",
    "    i = i/1000\n",
    "    secPlayed.append(i)\n",
    "\n",
    "\n",
    "df3.insert(4, 'secPlayed', secPlayed)"
   ]
  },
  {
   "cell_type": "code",
   "execution_count": 202,
   "metadata": {},
   "outputs": [
    {
     "data": {
      "text/html": [
       "<div>\n",
       "<style scoped>\n",
       "    .dataframe tbody tr th:only-of-type {\n",
       "        vertical-align: middle;\n",
       "    }\n",
       "\n",
       "    .dataframe tbody tr th {\n",
       "        vertical-align: top;\n",
       "    }\n",
       "\n",
       "    .dataframe thead th {\n",
       "        text-align: right;\n",
       "    }\n",
       "</style>\n",
       "<table border=\"1\" class=\"dataframe\">\n",
       "  <thead>\n",
       "    <tr style=\"text-align: right;\">\n",
       "      <th></th>\n",
       "      <th>endTime</th>\n",
       "      <th>artistName</th>\n",
       "      <th>trackName</th>\n",
       "      <th>msPlayed</th>\n",
       "      <th>secPlayed</th>\n",
       "    </tr>\n",
       "  </thead>\n",
       "  <tbody>\n",
       "    <tr>\n",
       "      <th>10881</th>\n",
       "      <td>2023-01-01 01:17:00</td>\n",
       "      <td>Ariana Grande</td>\n",
       "      <td>7 rings</td>\n",
       "      <td>139.0</td>\n",
       "      <td>0.139</td>\n",
       "    </tr>\n",
       "    <tr>\n",
       "      <th>10882</th>\n",
       "      <td>2023-01-01 01:17:00</td>\n",
       "      <td>Ariana Grande</td>\n",
       "      <td>7 rings</td>\n",
       "      <td>487.0</td>\n",
       "      <td>0.487</td>\n",
       "    </tr>\n",
       "    <tr>\n",
       "      <th>10883</th>\n",
       "      <td>2023-01-01 01:17:00</td>\n",
       "      <td>Ariana Grande</td>\n",
       "      <td>positions</td>\n",
       "      <td>417.0</td>\n",
       "      <td>0.417</td>\n",
       "    </tr>\n",
       "    <tr>\n",
       "      <th>10884</th>\n",
       "      <td>2023-01-01 01:17:00</td>\n",
       "      <td>Peach Pit</td>\n",
       "      <td>Being so Normal</td>\n",
       "      <td>2205.0</td>\n",
       "      <td>2.205</td>\n",
       "    </tr>\n",
       "    <tr>\n",
       "      <th>10885</th>\n",
       "      <td>2023-01-01 01:17:00</td>\n",
       "      <td>Kelly Clarkson</td>\n",
       "      <td>Santa, Can’t You Hear Me</td>\n",
       "      <td>278.0</td>\n",
       "      <td>0.278</td>\n",
       "    </tr>\n",
       "  </tbody>\n",
       "</table>\n",
       "</div>"
      ],
      "text/plain": [
       "                  endTime      artistName                 trackName  msPlayed  \\\n",
       "10881 2023-01-01 01:17:00   Ariana Grande                   7 rings     139.0   \n",
       "10882 2023-01-01 01:17:00   Ariana Grande                   7 rings     487.0   \n",
       "10883 2023-01-01 01:17:00   Ariana Grande                 positions     417.0   \n",
       "10884 2023-01-01 01:17:00       Peach Pit           Being so Normal    2205.0   \n",
       "10885 2023-01-01 01:17:00  Kelly Clarkson  Santa, Can’t You Hear Me     278.0   \n",
       "\n",
       "       secPlayed  \n",
       "10881      0.139  \n",
       "10882      0.487  \n",
       "10883      0.417  \n",
       "10884      2.205  \n",
       "10885      0.278  "
      ]
     },
     "execution_count": 202,
     "metadata": {},
     "output_type": "execute_result"
    }
   ],
   "source": [
    "df3.head()"
   ]
  },
  {
   "cell_type": "code",
   "execution_count": 203,
   "metadata": {},
   "outputs": [],
   "source": [
    "# Dropping the msPlayed column\n",
    "\n",
    "df3 = df3.drop('msPlayed', axis=1)"
   ]
  },
  {
   "cell_type": "code",
   "execution_count": 204,
   "metadata": {},
   "outputs": [
    {
     "data": {
      "text/html": [
       "<div>\n",
       "<style scoped>\n",
       "    .dataframe tbody tr th:only-of-type {\n",
       "        vertical-align: middle;\n",
       "    }\n",
       "\n",
       "    .dataframe tbody tr th {\n",
       "        vertical-align: top;\n",
       "    }\n",
       "\n",
       "    .dataframe thead th {\n",
       "        text-align: right;\n",
       "    }\n",
       "</style>\n",
       "<table border=\"1\" class=\"dataframe\">\n",
       "  <thead>\n",
       "    <tr style=\"text-align: right;\">\n",
       "      <th></th>\n",
       "      <th>endTime</th>\n",
       "      <th>artistName</th>\n",
       "      <th>trackName</th>\n",
       "      <th>secPlayed</th>\n",
       "    </tr>\n",
       "  </thead>\n",
       "  <tbody>\n",
       "    <tr>\n",
       "      <th>10881</th>\n",
       "      <td>2023-01-01 01:17:00</td>\n",
       "      <td>Ariana Grande</td>\n",
       "      <td>7 rings</td>\n",
       "      <td>0.139</td>\n",
       "    </tr>\n",
       "    <tr>\n",
       "      <th>10882</th>\n",
       "      <td>2023-01-01 01:17:00</td>\n",
       "      <td>Ariana Grande</td>\n",
       "      <td>7 rings</td>\n",
       "      <td>0.487</td>\n",
       "    </tr>\n",
       "    <tr>\n",
       "      <th>10883</th>\n",
       "      <td>2023-01-01 01:17:00</td>\n",
       "      <td>Ariana Grande</td>\n",
       "      <td>positions</td>\n",
       "      <td>0.417</td>\n",
       "    </tr>\n",
       "    <tr>\n",
       "      <th>10884</th>\n",
       "      <td>2023-01-01 01:17:00</td>\n",
       "      <td>Peach Pit</td>\n",
       "      <td>Being so Normal</td>\n",
       "      <td>2.205</td>\n",
       "    </tr>\n",
       "    <tr>\n",
       "      <th>10885</th>\n",
       "      <td>2023-01-01 01:17:00</td>\n",
       "      <td>Kelly Clarkson</td>\n",
       "      <td>Santa, Can’t You Hear Me</td>\n",
       "      <td>0.278</td>\n",
       "    </tr>\n",
       "  </tbody>\n",
       "</table>\n",
       "</div>"
      ],
      "text/plain": [
       "                  endTime      artistName                 trackName  secPlayed\n",
       "10881 2023-01-01 01:17:00   Ariana Grande                   7 rings      0.139\n",
       "10882 2023-01-01 01:17:00   Ariana Grande                   7 rings      0.487\n",
       "10883 2023-01-01 01:17:00   Ariana Grande                 positions      0.417\n",
       "10884 2023-01-01 01:17:00       Peach Pit           Being so Normal      2.205\n",
       "10885 2023-01-01 01:17:00  Kelly Clarkson  Santa, Can’t You Hear Me      0.278"
      ]
     },
     "execution_count": 204,
     "metadata": {},
     "output_type": "execute_result"
    }
   ],
   "source": [
    "df3.head()"
   ]
  },
  {
   "cell_type": "markdown",
   "metadata": {},
   "source": [
    "#### 2.5 Finding top 10 favorite artists\n",
    "Find the top `ten` artists with the highest total play time (in seconds). Plot your findings in a bar graph. \\\n",
    "(hint: start by creating a new DataFrame with only `artistName` and your time column. To proceed, you will also likely need the `groupby` command from Pandas.)"
   ]
  },
  {
   "cell_type": "code",
   "execution_count": 205,
   "metadata": {},
   "outputs": [
    {
     "data": {
      "text/html": [
       "<div>\n",
       "<style scoped>\n",
       "    .dataframe tbody tr th:only-of-type {\n",
       "        vertical-align: middle;\n",
       "    }\n",
       "\n",
       "    .dataframe tbody tr th {\n",
       "        vertical-align: top;\n",
       "    }\n",
       "\n",
       "    .dataframe thead th {\n",
       "        text-align: right;\n",
       "    }\n",
       "</style>\n",
       "<table border=\"1\" class=\"dataframe\">\n",
       "  <thead>\n",
       "    <tr style=\"text-align: right;\">\n",
       "      <th></th>\n",
       "      <th>secPlayed</th>\n",
       "    </tr>\n",
       "    <tr>\n",
       "      <th>artistName</th>\n",
       "      <th></th>\n",
       "    </tr>\n",
       "  </thead>\n",
       "  <tbody>\n",
       "    <tr>\n",
       "      <th>Ariana Grande</th>\n",
       "      <td>178996.003</td>\n",
       "    </tr>\n",
       "    <tr>\n",
       "      <th>Joji</th>\n",
       "      <td>137229.562</td>\n",
       "    </tr>\n",
       "    <tr>\n",
       "      <th>The Pretty Reckless</th>\n",
       "      <td>110293.430</td>\n",
       "    </tr>\n",
       "    <tr>\n",
       "      <th>Cage The Elephant</th>\n",
       "      <td>95587.575</td>\n",
       "    </tr>\n",
       "    <tr>\n",
       "      <th>Lana Del Rey</th>\n",
       "      <td>90543.113</td>\n",
       "    </tr>\n",
       "    <tr>\n",
       "      <th>Greta Van Fleet</th>\n",
       "      <td>88026.405</td>\n",
       "    </tr>\n",
       "    <tr>\n",
       "      <th>The Neighbourhood</th>\n",
       "      <td>85673.375</td>\n",
       "    </tr>\n",
       "    <tr>\n",
       "      <th>Gorillaz</th>\n",
       "      <td>84858.371</td>\n",
       "    </tr>\n",
       "    <tr>\n",
       "      <th>Led Zeppelin</th>\n",
       "      <td>77030.802</td>\n",
       "    </tr>\n",
       "    <tr>\n",
       "      <th>Arctic Monkeys</th>\n",
       "      <td>76444.236</td>\n",
       "    </tr>\n",
       "  </tbody>\n",
       "</table>\n",
       "</div>"
      ],
      "text/plain": [
       "                      secPlayed\n",
       "artistName                     \n",
       "Ariana Grande        178996.003\n",
       "Joji                 137229.562\n",
       "The Pretty Reckless  110293.430\n",
       "Cage The Elephant     95587.575\n",
       "Lana Del Rey          90543.113\n",
       "Greta Van Fleet       88026.405\n",
       "The Neighbourhood     85673.375\n",
       "Gorillaz              84858.371\n",
       "Led Zeppelin          77030.802\n",
       "Arctic Monkeys        76444.236"
      ]
     },
     "execution_count": 205,
     "metadata": {},
     "output_type": "execute_result"
    }
   ],
   "source": [
    "# Creating a new DataFrame with only artistName and secPlayed column\n",
    "artist_playtime_df = df3[['artistName', 'secPlayed']]\n",
    "\n",
    "# Grouping by artistName and sum play time\n",
    "artist_total_playtime = artist_playtime_df.groupby('artistName').sum()\n",
    "\n",
    "# Sorting artists based on total play time\n",
    "sorted_artists = artist_total_playtime.sort_values(by='secPlayed', ascending=False)\n",
    "\n",
    "# Printing top ten artists\n",
    "top_ten_artists = sorted_artists.head(10)\n",
    "\n",
    "top_ten_artists\n"
   ]
  },
  {
   "cell_type": "code",
   "execution_count": 206,
   "metadata": {},
   "outputs": [
    {
     "data": {
      "image/png": "[encoded data removed]",
      "text/plain": [
       "<Figure size 1000x600 with 1 Axes>"
      ]
     },
     "metadata": {},
     "output_type": "display_data"
    }
   ],
   "source": [
    "# Plotting the Top 10 Songs\n",
    "top_ten_artists.plot(kind='bar', figsize=(10, 6))\n",
    "plt.title('Top 10 Artists by Total Play Time')\n",
    "plt.xlabel('Artist')\n",
    "plt.ylabel('Total Play Time (seconds)')\n",
    "plt.xticks(rotation=45, ha='right')\n",
    "plt.tight_layout()\n",
    "plt.show()"
   ]
  },
  {
   "cell_type": "markdown",
   "metadata": {},
   "source": [
    "#### 2.6 Finding top 10 favorite songs\n",
    "Find the top `ten` songs with the highest play time. Create a graph visualizing the results."
   ]
  },
  {
   "cell_type": "code",
   "execution_count": 207,
   "metadata": {},
   "outputs": [
    {
     "data": {
      "text/html": [
       "<div>\n",
       "<style scoped>\n",
       "    .dataframe tbody tr th:only-of-type {\n",
       "        vertical-align: middle;\n",
       "    }\n",
       "\n",
       "    .dataframe tbody tr th {\n",
       "        vertical-align: top;\n",
       "    }\n",
       "\n",
       "    .dataframe thead th {\n",
       "        text-align: right;\n",
       "    }\n",
       "</style>\n",
       "<table border=\"1\" class=\"dataframe\">\n",
       "  <thead>\n",
       "    <tr style=\"text-align: right;\">\n",
       "      <th></th>\n",
       "      <th>secPlayed</th>\n",
       "    </tr>\n",
       "    <tr>\n",
       "      <th>trackName</th>\n",
       "      <th></th>\n",
       "    </tr>\n",
       "  </thead>\n",
       "  <tbody>\n",
       "    <tr>\n",
       "      <th>Les</th>\n",
       "      <td>31403.364</td>\n",
       "    </tr>\n",
       "    <tr>\n",
       "      <th>O Children</th>\n",
       "      <td>24558.414</td>\n",
       "    </tr>\n",
       "    <tr>\n",
       "      <th>When the Levee Breaks - Remaster</th>\n",
       "      <td>22631.721</td>\n",
       "    </tr>\n",
       "    <tr>\n",
       "      <th>Heartbeat</th>\n",
       "      <td>22056.629</td>\n",
       "    </tr>\n",
       "    <tr>\n",
       "      <th>Afterthought</th>\n",
       "      <td>21599.564</td>\n",
       "    </tr>\n",
       "    <tr>\n",
       "      <th>A Change Is Gonna Come</th>\n",
       "      <td>20414.317</td>\n",
       "    </tr>\n",
       "    <tr>\n",
       "      <th>Bones</th>\n",
       "      <td>18860.916</td>\n",
       "    </tr>\n",
       "    <tr>\n",
       "      <th>FEEL.</th>\n",
       "      <td>18696.637</td>\n",
       "    </tr>\n",
       "    <tr>\n",
       "      <th>Bad Ones (feat. Tegan and Sara)</th>\n",
       "      <td>18558.247</td>\n",
       "    </tr>\n",
       "    <tr>\n",
       "      <th>Love It If We Made It</th>\n",
       "      <td>17018.248</td>\n",
       "    </tr>\n",
       "  </tbody>\n",
       "</table>\n",
       "</div>"
      ],
      "text/plain": [
       "                                  secPlayed\n",
       "trackName                                  \n",
       "Les                               31403.364\n",
       "O Children                        24558.414\n",
       "When the Levee Breaks - Remaster  22631.721\n",
       "Heartbeat                         22056.629\n",
       "Afterthought                      21599.564\n",
       "A Change Is Gonna Come            20414.317\n",
       "Bones                             18860.916\n",
       "FEEL.                             18696.637\n",
       "Bad Ones (feat. Tegan and Sara)   18558.247\n",
       "Love It If We Made It             17018.248"
      ]
     },
     "execution_count": 207,
     "metadata": {},
     "output_type": "execute_result"
    }
   ],
   "source": [
    "# Creating a new DataFrame with only trackName and secPlayed column\n",
    "track_playtime_df = df3[['trackName', 'secPlayed']]\n",
    "\n",
    "# Grouping by artistName and sum play time\n",
    "track_total_playtime = track_playtime_df.groupby('trackName').sum()\n",
    "\n",
    "# Sorting artists based on total play time\n",
    "sorted_tracks = track_total_playtime.sort_values(by='secPlayed', ascending=False)\n",
    "\n",
    "# Printing top ten artists\n",
    "top_ten_tracks = sorted_tracks.head(10)\n",
    "\n",
    "top_ten_tracks"
   ]
  },
  {
   "cell_type": "code",
   "execution_count": 208,
   "metadata": {},
   "outputs": [
    {
     "data": {
      "image/png": "[encoded data removed]",
      "text/plain": [
       "<Figure size 1000x600 with 1 Axes>"
      ]
     },
     "metadata": {},
     "output_type": "display_data"
    }
   ],
   "source": [
    "# Plotting the Top 10 Songs\n",
    "top_ten_tracks.plot(kind='bar', figsize=(10, 6))\n",
    "plt.title('Top 10 Songs by Total Play Time')\n",
    "plt.xlabel('Songs')\n",
    "plt.ylabel('Total Play Time (seconds)')\n",
    "plt.xticks(rotation=45, ha='right')\n",
    "plt.tight_layout()\n",
    "plt.show()"
   ]
  },
  {
   "cell_type": "markdown",
   "metadata": {},
   "source": [
    "## Part 3: Further analysis"
   ]
  },
  {
   "cell_type": "markdown",
   "metadata": {},
   "source": [
    "#### 3.0 Average listening time by hour\n",
    "Generate a plot that displays the average amount of time that music is played for each hour of the day."
   ]
  },
  {
   "cell_type": "code",
   "execution_count": null,
   "metadata": {},
   "outputs": [],
   "source": [
    "# Creating a new DataFrame with only endTime and secPlayed column\n",
    "music_play_df = df3[['endTime', 'secPlayed']]\n",
    "\n",
    "# Extracting the hours from the endTime\n",
    "music_play_df['endHour'] = music_play_df['endTime'].dt.hour\n",
    "\n",
    "# Grouping by the hours and total the play time\n",
    "total_play_time_per_hour = music_play_df.groupby('endHour')['secPlayed'].sum()\n",
    "\n",
    "# Grouping by the hours and average the play time\n",
    "average_play_time_per_hour = music_play_df.groupby('endHour')['secPlayed'].mean()"
   ]
  },
  {
   "cell_type": "code",
   "execution_count": 289,
   "metadata": {},
   "outputs": [
    {
     "data": {
      "image/png": "[encoded data removed]",
      "text/plain": [
       "<Figure size 1000x600 with 1 Axes>"
      ]
     },
     "metadata": {},
     "output_type": "display_data"
    }
   ],
   "source": [
    "# Plot the result\n",
    "plt.figure(figsize=(10, 6))\n",
    "total_play_time_per_hour.plot(kind='bar', color='skyblue')\n",
    "plt.title('Total Music Play Time by Hour of Day')\n",
    "plt.xlabel('Hour of Day')\n",
    "plt.ylabel('Average Play Time (sec)')\n",
    "plt.xticks(range(0, 24))\n",
    "plt.grid(axis='y', linestyle='--')\n",
    "\n",
    "# Show the plot\n",
    "plt.show()"
   ]
  },
  {
   "cell_type": "code",
   "execution_count": 290,
   "metadata": {},
   "outputs": [
    {
     "data": {
      "image/png": "[encoded data removed]",
      "text/plain": [
       "<Figure size 1000x600 with 1 Axes>"
      ]
     },
     "metadata": {},
     "output_type": "display_data"
    }
   ],
   "source": [
    "# Plot the result\n",
    "plt.figure(figsize=(10, 6))\n",
    "average_play_time_per_hour.plot(kind='bar', color='skyblue')\n",
    "plt.title('Average Music Play Time by Hour of Day')\n",
    "plt.xlabel('Hour of Day')\n",
    "plt.ylabel('Average Play Time (sec)')\n",
    "plt.xticks(range(0, 24))\n",
    "plt.grid(axis='y', linestyle='--')\n",
    "\n",
    "# Show the plot\n",
    "plt.show()"
   ]
  },
  {
   "cell_type": "markdown",
   "metadata": {},
   "source": [
    "# Observations\n",
    "Here is one interesting thing to notice if we use the the mean function while groupby it showes more average time in hour 0 to 6 althogh total listening hour is less on that time which can be seen from the previous graph and this is also normal that at that time the user of this data must be sleeping or resting. But the acverage come like this because as there are less skipped song on that time and the average here is shown by the total number of songs(both skipped and unskipped).\n",
    "\n",
    "So, in the below I tried to deal with it by divinde by the total number days."
   ]
  },
  {
   "cell_type": "code",
   "execution_count": 313,
   "metadata": {},
   "outputs": [],
   "source": [
    "# Finding the total number days when the music is listened i.e. unique days\n",
    "days = music_play_df['endTime'].dt.day_of_year\n",
    "unique_days = days.unique()\n",
    "total_unique_days = len(unique_days)"
   ]
  },
  {
   "cell_type": "code",
   "execution_count": 314,
   "metadata": {},
   "outputs": [],
   "source": [
    "# Getting average by dividing it by total number of days\n",
    "mean_play_time_per_hour = total_play_time_per_hour/total_unique_days"
   ]
  },
  {
   "cell_type": "code",
   "execution_count": 312,
   "metadata": {},
   "outputs": [
    {
     "data": {
      "image/png": "[encoded data removed]",
      "text/plain": [
       "<Figure size 1000x600 with 1 Axes>"
      ]
     },
     "metadata": {},
     "output_type": "display_data"
    }
   ],
   "source": [
    "# Plot the result\n",
    "plt.figure(figsize=(10, 6))\n",
    "mean_play_time_per_hour.plot(kind='bar', color='skyblue')\n",
    "plt.title('Average Music Play Time by Hour of Day')\n",
    "plt.xlabel('Hour of Day')\n",
    "plt.ylabel('Average Play Time (sec)')\n",
    "plt.xticks(range(0, 24))\n",
    "plt.grid(axis='y', linestyle='--')\n",
    "\n",
    "# Show the plot\n",
    "plt.show()"
   ]
  },
  {
   "cell_type": "markdown",
   "metadata": {},
   "source": [
    " Now this look this look more understandable that how much average time the user has spent on listening in every hour."
   ]
  },
  {
   "cell_type": "markdown",
   "metadata": {},
   "source": [
    "#### 3.1 Morning music and evening music\n",
    "I think many people find that some types of music are more suitable for morning listening and some music is more suitable for evening listening. Create a plot that compares the play time of the artists *Leonard Cohen* and *Rage Against the Machine* on an hour-by-hour basis. See if there are any differences."
   ]
  },
  {
   "cell_type": "code",
   "execution_count": 211,
   "metadata": {},
   "outputs": [
    {
     "name": "stderr",
     "output_type": "stream",
     "text": [
      "/var/folders/2k/4yf6q3p91dn305kq0h_z85300000gn/T/ipykernel_63153/2126971822.py:5: SettingWithCopyWarning: \n",
      "A value is trying to be set on a copy of a slice from a DataFrame.\n",
      "Try using .loc[row_indexer,col_indexer] = value instead\n",
      "\n",
      "See the caveats in the documentation: https://pandas.pydata.org/pandas-docs/stable/user_guide/indexing.html#returning-a-view-versus-a-copy\n",
      "  relevant_artists_df['hour'] = relevant_artists_df['endTime'].dt.hour\n"
     ]
    }
   ],
   "source": [
    "# Creating a new DataFrame with only Leonard Cohen and Rage Against The Machine\n",
    "relevant_artists_df = df3[df3['artistName'].isin(['Leonard Cohen', 'Rage Against The Machine'])]\n",
    "\n",
    "# Extracting the hours from the endTime\n",
    "relevant_artists_df['hour'] = relevant_artists_df['endTime'].dt.hour\n",
    "\n",
    "# Grouping by hour and artist, and sum the play time\n",
    "hourly_playtime_comparison = relevant_artists_df.groupby(['hour', 'artistName'])['secPlayed'].sum().unstack()"
   ]
  },
  {
   "cell_type": "code",
   "execution_count": 212,
   "metadata": {},
   "outputs": [
    {
     "data": {
      "text/html": [
       "<div>\n",
       "<style scoped>\n",
       "    .dataframe tbody tr th:only-of-type {\n",
       "        vertical-align: middle;\n",
       "    }\n",
       "\n",
       "    .dataframe tbody tr th {\n",
       "        vertical-align: top;\n",
       "    }\n",
       "\n",
       "    .dataframe thead th {\n",
       "        text-align: right;\n",
       "    }\n",
       "</style>\n",
       "<table border=\"1\" class=\"dataframe\">\n",
       "  <thead>\n",
       "    <tr style=\"text-align: right;\">\n",
       "      <th>artistName</th>\n",
       "      <th>Leonard Cohen</th>\n",
       "      <th>Rage Against The Machine</th>\n",
       "    </tr>\n",
       "    <tr>\n",
       "      <th>hour</th>\n",
       "      <th></th>\n",
       "      <th></th>\n",
       "    </tr>\n",
       "  </thead>\n",
       "  <tbody>\n",
       "    <tr>\n",
       "      <th>0</th>\n",
       "      <td>486.593</td>\n",
       "      <td>2.024</td>\n",
       "    </tr>\n",
       "    <tr>\n",
       "      <th>1</th>\n",
       "      <td>19.065</td>\n",
       "      <td>NaN</td>\n",
       "    </tr>\n",
       "    <tr>\n",
       "      <th>4</th>\n",
       "      <td>271.905</td>\n",
       "      <td>17.242</td>\n",
       "    </tr>\n",
       "    <tr>\n",
       "      <th>5</th>\n",
       "      <td>371.150</td>\n",
       "      <td>NaN</td>\n",
       "    </tr>\n",
       "    <tr>\n",
       "      <th>6</th>\n",
       "      <td>190.543</td>\n",
       "      <td>28.610</td>\n",
       "    </tr>\n",
       "    <tr>\n",
       "      <th>7</th>\n",
       "      <td>296.875</td>\n",
       "      <td>12.516</td>\n",
       "    </tr>\n",
       "    <tr>\n",
       "      <th>8</th>\n",
       "      <td>595.872</td>\n",
       "      <td>42.402</td>\n",
       "    </tr>\n",
       "    <tr>\n",
       "      <th>9</th>\n",
       "      <td>829.501</td>\n",
       "      <td>226.606</td>\n",
       "    </tr>\n",
       "    <tr>\n",
       "      <th>10</th>\n",
       "      <td>2068.587</td>\n",
       "      <td>335.398</td>\n",
       "    </tr>\n",
       "    <tr>\n",
       "      <th>11</th>\n",
       "      <td>1657.468</td>\n",
       "      <td>813.869</td>\n",
       "    </tr>\n",
       "    <tr>\n",
       "      <th>12</th>\n",
       "      <td>1078.065</td>\n",
       "      <td>334.003</td>\n",
       "    </tr>\n",
       "    <tr>\n",
       "      <th>13</th>\n",
       "      <td>1425.191</td>\n",
       "      <td>238.100</td>\n",
       "    </tr>\n",
       "    <tr>\n",
       "      <th>14</th>\n",
       "      <td>1731.914</td>\n",
       "      <td>141.379</td>\n",
       "    </tr>\n",
       "    <tr>\n",
       "      <th>15</th>\n",
       "      <td>1418.022</td>\n",
       "      <td>276.347</td>\n",
       "    </tr>\n",
       "    <tr>\n",
       "      <th>16</th>\n",
       "      <td>1142.896</td>\n",
       "      <td>1577.069</td>\n",
       "    </tr>\n",
       "    <tr>\n",
       "      <th>17</th>\n",
       "      <td>475.653</td>\n",
       "      <td>1183.734</td>\n",
       "    </tr>\n",
       "    <tr>\n",
       "      <th>18</th>\n",
       "      <td>1545.162</td>\n",
       "      <td>913.117</td>\n",
       "    </tr>\n",
       "    <tr>\n",
       "      <th>19</th>\n",
       "      <td>2101.166</td>\n",
       "      <td>332.719</td>\n",
       "    </tr>\n",
       "    <tr>\n",
       "      <th>20</th>\n",
       "      <td>2978.077</td>\n",
       "      <td>123.206</td>\n",
       "    </tr>\n",
       "    <tr>\n",
       "      <th>21</th>\n",
       "      <td>2028.490</td>\n",
       "      <td>208.668</td>\n",
       "    </tr>\n",
       "    <tr>\n",
       "      <th>22</th>\n",
       "      <td>619.896</td>\n",
       "      <td>234.753</td>\n",
       "    </tr>\n",
       "    <tr>\n",
       "      <th>23</th>\n",
       "      <td>121.525</td>\n",
       "      <td>104.835</td>\n",
       "    </tr>\n",
       "  </tbody>\n",
       "</table>\n",
       "</div>"
      ],
      "text/plain": [
       "artistName  Leonard Cohen  Rage Against The Machine\n",
       "hour                                               \n",
       "0                 486.593                     2.024\n",
       "1                  19.065                       NaN\n",
       "4                 271.905                    17.242\n",
       "5                 371.150                       NaN\n",
       "6                 190.543                    28.610\n",
       "7                 296.875                    12.516\n",
       "8                 595.872                    42.402\n",
       "9                 829.501                   226.606\n",
       "10               2068.587                   335.398\n",
       "11               1657.468                   813.869\n",
       "12               1078.065                   334.003\n",
       "13               1425.191                   238.100\n",
       "14               1731.914                   141.379\n",
       "15               1418.022                   276.347\n",
       "16               1142.896                  1577.069\n",
       "17                475.653                  1183.734\n",
       "18               1545.162                   913.117\n",
       "19               2101.166                   332.719\n",
       "20               2978.077                   123.206\n",
       "21               2028.490                   208.668\n",
       "22                619.896                   234.753\n",
       "23                121.525                   104.835"
      ]
     },
     "execution_count": 212,
     "metadata": {},
     "output_type": "execute_result"
    }
   ],
   "source": [
    "hourly_playtime_comparison"
   ]
  },
  {
   "cell_type": "code",
   "execution_count": 213,
   "metadata": {},
   "outputs": [
    {
     "data": {
      "text/plain": [
       "<Figure size 1000x600 with 0 Axes>"
      ]
     },
     "metadata": {},
     "output_type": "display_data"
    },
    {
     "data": {
      "image/png": "[encoded data removed]",
      "text/plain": [
       "<Figure size 640x480 with 1 Axes>"
      ]
     },
     "metadata": {},
     "output_type": "display_data"
    }
   ],
   "source": [
    "# Plotting the results\n",
    "plt.figure(figsize=(10, 6))\n",
    "hourly_playtime_comparison.plot(kind='line', marker='o', linestyle='-')\n",
    "plt.title('Hourly Play Time Comparison: Leonard Cohen vs. Rage Against The Machine')\n",
    "plt.xlabel('Hour of the Day')\n",
    "plt.ylabel('Total Play Time (seconds)')\n",
    "plt.xticks(range(24))\n",
    "plt.grid(True)\n",
    "plt.legend(title='Artist')\n",
    "plt.tight_layout()\n",
    "plt.show()"
   ]
  },
  {
   "cell_type": "markdown",
   "metadata": {},
   "source": [
    "#### 3.2 Analysing skipped songs\n",
    "Determining whether a song was skipped or listened to can be challenging. For this analysis, we'll simplify by defining a skipped song as any track played for less than 30 seconds. Conversely, a song played for 30 seconds or more is considered listened to. \\\n",
    " Add a column to your DataFrame to reflect this criteria: set the value to 1 if the song was played for less than 30 seconds (indicating a skipped song), and 0 if it was played for 30 seconds or longer."
   ]
  },
  {
   "cell_type": "code",
   "execution_count": 214,
   "metadata": {},
   "outputs": [],
   "source": [
    "# Adding new column skipped songs\n",
    "\n",
    "skippedTrack = []\n",
    "\n",
    "for i in df3['secPlayed']:\n",
    "    if i < 30 :\n",
    "        skippedTrack.append(1)\n",
    "    else:\n",
    "        skippedTrack.append(0)\n",
    "\n",
    "df3.insert(4, 'skippedTrack', skippedTrack)"
   ]
  },
  {
   "cell_type": "code",
   "execution_count": 215,
   "metadata": {},
   "outputs": [
    {
     "data": {
      "text/html": [
       "<div>\n",
       "<style scoped>\n",
       "    .dataframe tbody tr th:only-of-type {\n",
       "        vertical-align: middle;\n",
       "    }\n",
       "\n",
       "    .dataframe tbody tr th {\n",
       "        vertical-align: top;\n",
       "    }\n",
       "\n",
       "    .dataframe thead th {\n",
       "        text-align: right;\n",
       "    }\n",
       "</style>\n",
       "<table border=\"1\" class=\"dataframe\">\n",
       "  <thead>\n",
       "    <tr style=\"text-align: right;\">\n",
       "      <th></th>\n",
       "      <th>endTime</th>\n",
       "      <th>artistName</th>\n",
       "      <th>trackName</th>\n",
       "      <th>secPlayed</th>\n",
       "      <th>skippedTrack</th>\n",
       "    </tr>\n",
       "  </thead>\n",
       "  <tbody>\n",
       "    <tr>\n",
       "      <th>10881</th>\n",
       "      <td>2023-01-01 01:17:00</td>\n",
       "      <td>Ariana Grande</td>\n",
       "      <td>7 rings</td>\n",
       "      <td>0.139</td>\n",
       "      <td>1</td>\n",
       "    </tr>\n",
       "    <tr>\n",
       "      <th>10882</th>\n",
       "      <td>2023-01-01 01:17:00</td>\n",
       "      <td>Ariana Grande</td>\n",
       "      <td>7 rings</td>\n",
       "      <td>0.487</td>\n",
       "      <td>1</td>\n",
       "    </tr>\n",
       "    <tr>\n",
       "      <th>10883</th>\n",
       "      <td>2023-01-01 01:17:00</td>\n",
       "      <td>Ariana Grande</td>\n",
       "      <td>positions</td>\n",
       "      <td>0.417</td>\n",
       "      <td>1</td>\n",
       "    </tr>\n",
       "    <tr>\n",
       "      <th>10884</th>\n",
       "      <td>2023-01-01 01:17:00</td>\n",
       "      <td>Peach Pit</td>\n",
       "      <td>Being so Normal</td>\n",
       "      <td>2.205</td>\n",
       "      <td>1</td>\n",
       "    </tr>\n",
       "    <tr>\n",
       "      <th>10885</th>\n",
       "      <td>2023-01-01 01:17:00</td>\n",
       "      <td>Kelly Clarkson</td>\n",
       "      <td>Santa, Can’t You Hear Me</td>\n",
       "      <td>0.278</td>\n",
       "      <td>1</td>\n",
       "    </tr>\n",
       "  </tbody>\n",
       "</table>\n",
       "</div>"
      ],
      "text/plain": [
       "                  endTime      artistName                 trackName  \\\n",
       "10881 2023-01-01 01:17:00   Ariana Grande                   7 rings   \n",
       "10882 2023-01-01 01:17:00   Ariana Grande                   7 rings   \n",
       "10883 2023-01-01 01:17:00   Ariana Grande                 positions   \n",
       "10884 2023-01-01 01:17:00       Peach Pit           Being so Normal   \n",
       "10885 2023-01-01 01:17:00  Kelly Clarkson  Santa, Can’t You Hear Me   \n",
       "\n",
       "       secPlayed  skippedTrack  \n",
       "10881      0.139             1  \n",
       "10882      0.487             1  \n",
       "10883      0.417             1  \n",
       "10884      2.205             1  \n",
       "10885      0.278             1  "
      ]
     },
     "execution_count": 215,
     "metadata": {},
     "output_type": "execute_result"
    }
   ],
   "source": [
    "df3.head()"
   ]
  },
  {
   "cell_type": "markdown",
   "metadata": {},
   "source": [
    "#### 3.3 Plotting skipped songs\n",
    "Create a pie-chart that compares amount of skipped songs to amount of non-skipped songs."
   ]
  },
  {
   "cell_type": "code",
   "execution_count": 216,
   "metadata": {},
   "outputs": [],
   "source": [
    "# Step 1: Group the DataFrame by the 'skipped' column and count the occurrences\n",
    "skipped_counts = df3.groupby('skippedTrack').size()"
   ]
  },
  {
   "cell_type": "code",
   "execution_count": 217,
   "metadata": {},
   "outputs": [
    {
     "data": {
      "image/png": "[encoded data removed]",
      "text/plain": [
       "<Figure size 800x600 with 1 Axes>"
      ]
     },
     "metadata": {},
     "output_type": "display_data"
    }
   ],
   "source": [
    "# Step 2: Plot the results in a pie chart\n",
    "plt.figure(figsize=(8, 6))\n",
    "plt.pie(skipped_counts, labels=['Non-Skipped', 'Skipped'], autopct='%1.1f%%', startangle=140, colors=['lightblue', 'lightcoral'])\n",
    "plt.title('Comparison of Skipped vs. Non-Skipped Songs')\n",
    "plt.axis('equal')  # Equal aspect ratio ensures that pie is drawn as a circle.\n",
    "plt.show()"
   ]
  },
  {
   "cell_type": "markdown",
   "metadata": {},
   "source": [
    "#### 3.4 Artists by percentage of songs skipped\n",
    "For each artist in the dataset, calculate which percentage of their songs was skipped. Store this information in a new DataFrame called `df_skipped`. Store the percentage of skipped songs in a new column named `SkipRate`\\\n",
    "\\\n",
    "**Example**: If an artist has **100** songs in your dataset and **25** of these were skipped, the percentage of skipped songs for this artist would be $\\frac{25}{100}=25\\%$"
   ]
  },
  {
   "cell_type": "code",
   "execution_count": 218,
   "metadata": {},
   "outputs": [
    {
     "data": {
      "text/html": [
       "<div>\n",
       "<style scoped>\n",
       "    .dataframe tbody tr th:only-of-type {\n",
       "        vertical-align: middle;\n",
       "    }\n",
       "\n",
       "    .dataframe tbody tr th {\n",
       "        vertical-align: top;\n",
       "    }\n",
       "\n",
       "    .dataframe thead th {\n",
       "        text-align: right;\n",
       "    }\n",
       "</style>\n",
       "<table border=\"1\" class=\"dataframe\">\n",
       "  <thead>\n",
       "    <tr style=\"text-align: right;\">\n",
       "      <th></th>\n",
       "      <th>TotalSongs</th>\n",
       "      <th>SkippedTrack</th>\n",
       "      <th>SkipRate</th>\n",
       "    </tr>\n",
       "    <tr>\n",
       "      <th>artistName</th>\n",
       "      <th></th>\n",
       "      <th></th>\n",
       "      <th></th>\n",
       "    </tr>\n",
       "  </thead>\n",
       "  <tbody>\n",
       "    <tr>\n",
       "      <th>10cc</th>\n",
       "      <td>28</td>\n",
       "      <td>19</td>\n",
       "      <td>67.857143</td>\n",
       "    </tr>\n",
       "    <tr>\n",
       "      <th>2Pac</th>\n",
       "      <td>513</td>\n",
       "      <td>442</td>\n",
       "      <td>86.159844</td>\n",
       "    </tr>\n",
       "    <tr>\n",
       "      <th>3 Doors Down</th>\n",
       "      <td>2</td>\n",
       "      <td>1</td>\n",
       "      <td>50.000000</td>\n",
       "    </tr>\n",
       "    <tr>\n",
       "      <th>4 Non Blondes</th>\n",
       "      <td>122</td>\n",
       "      <td>88</td>\n",
       "      <td>72.131148</td>\n",
       "    </tr>\n",
       "    <tr>\n",
       "      <th>50 Cent</th>\n",
       "      <td>28</td>\n",
       "      <td>19</td>\n",
       "      <td>67.857143</td>\n",
       "    </tr>\n",
       "    <tr>\n",
       "      <th>...</th>\n",
       "      <td>...</td>\n",
       "      <td>...</td>\n",
       "      <td>...</td>\n",
       "    </tr>\n",
       "    <tr>\n",
       "      <th>squeeda</th>\n",
       "      <td>3</td>\n",
       "      <td>2</td>\n",
       "      <td>66.666667</td>\n",
       "    </tr>\n",
       "    <tr>\n",
       "      <th>tenkousei.</th>\n",
       "      <td>37</td>\n",
       "      <td>37</td>\n",
       "      <td>100.000000</td>\n",
       "    </tr>\n",
       "    <tr>\n",
       "      <th>trxxshed</th>\n",
       "      <td>2</td>\n",
       "      <td>1</td>\n",
       "      <td>50.000000</td>\n",
       "    </tr>\n",
       "    <tr>\n",
       "      <th>xander.</th>\n",
       "      <td>8</td>\n",
       "      <td>3</td>\n",
       "      <td>37.500000</td>\n",
       "    </tr>\n",
       "    <tr>\n",
       "      <th>Édith Piaf</th>\n",
       "      <td>155</td>\n",
       "      <td>146</td>\n",
       "      <td>94.193548</td>\n",
       "    </tr>\n",
       "  </tbody>\n",
       "</table>\n",
       "<p>956 rows × 3 columns</p>\n",
       "</div>"
      ],
      "text/plain": [
       "               TotalSongs  SkippedTrack    SkipRate\n",
       "artistName                                         \n",
       "10cc                   28            19   67.857143\n",
       "2Pac                  513           442   86.159844\n",
       "3 Doors Down            2             1   50.000000\n",
       "4 Non Blondes         122            88   72.131148\n",
       "50 Cent                28            19   67.857143\n",
       "...                   ...           ...         ...\n",
       "squeeda                 3             2   66.666667\n",
       "tenkousei.             37            37  100.000000\n",
       "trxxshed                2             1   50.000000\n",
       "xander.                 8             3   37.500000\n",
       "Édith Piaf            155           146   94.193548\n",
       "\n",
       "[956 rows x 3 columns]"
      ]
     },
     "execution_count": 218,
     "metadata": {},
     "output_type": "execute_result"
    }
   ],
   "source": [
    "# Grouping the DataFrame by the 'artistName' column\n",
    "grouped_by_artist = df3.groupby('artistName')\n",
    "\n",
    "# Calculating the total number of songs and the number of skipped songs for each artist\n",
    "total_songs = grouped_by_artist.size()\n",
    "skipped_songs = grouped_by_artist['skippedTrack'].sum()\n",
    "\n",
    "# computing the percentage of skipped songs for each artist\n",
    "skip_rate = (skipped_songs / total_songs) * 100\n",
    "\n",
    "# Creating a new DataFrame to store the percentage of skipped songs for each artist\n",
    "df_skipped = pd.DataFrame({'TotalSongs': total_songs, 'SkippedTrack': skipped_songs, 'SkipRate': skip_rate})\n",
    "\n",
    "# Display the new DataFrame\n",
    "df_skipped\n"
   ]
  },
  {
   "cell_type": "markdown",
   "metadata": {},
   "source": [
    "#### 3.5 Comparing artists by skip-rate \n",
    "Find the `three` top artists with the lowest skip-rate and the `three` with the highest. Print their names, along with their skip-rate."
   ]
  },
  {
   "cell_type": "code",
   "execution_count": 219,
   "metadata": {},
   "outputs": [
    {
     "name": "stdout",
     "output_type": "stream",
     "text": [
      "artistName\n",
      "Gloria Gaynor     0.000000\n",
      "Roc Boyz         11.111111\n",
      "LACES            14.285714\n",
      "Name: SkipRate, dtype: float64\n"
     ]
    }
   ],
   "source": [
    "# Finding three top artists with lowest skip-rate\n",
    "print(df_skipped['SkipRate'].nsmallest(3))"
   ]
  },
  {
   "cell_type": "code",
   "execution_count": 237,
   "metadata": {},
   "outputs": [
    {
     "name": "stdout",
     "output_type": "stream",
     "text": [
      "artistName\n",
      "A Problem Squared    100.0\n",
      "Acid Ghost           100.0\n",
      "Albert Hammond Jr    100.0\n",
      "Name: SkipRate, dtype: float64\n"
     ]
    }
   ],
   "source": [
    "# Finding three top artists with highest skip-rate\n",
    "print(df_skipped['SkipRate'].nlargest(3))"
   ]
  },
  {
   "cell_type": "markdown",
   "metadata": {},
   "source": [
    "## Part 4: God Is a Data Scientist - The Ariana Deep-Dive"
   ]
  },
  {
   "cell_type": "markdown",
   "metadata": {},
   "source": [
    "#### 4.0 Ariana-DataFrame: \n",
    "Create a new DataFrame called *df_ariana*, containing only rows with music by Ariana Grande."
   ]
  },
  {
   "cell_type": "code",
   "execution_count": 221,
   "metadata": {},
   "outputs": [],
   "source": [
    "# Creating a dataframe with only rows with music by Ariana Grande\n",
    "df_ariana = df3[df3['artistName'] == 'Ariana Grande']"
   ]
  },
  {
   "cell_type": "code",
   "execution_count": 222,
   "metadata": {},
   "outputs": [
    {
     "data": {
      "text/html": [
       "<div>\n",
       "<style scoped>\n",
       "    .dataframe tbody tr th:only-of-type {\n",
       "        vertical-align: middle;\n",
       "    }\n",
       "\n",
       "    .dataframe tbody tr th {\n",
       "        vertical-align: top;\n",
       "    }\n",
       "\n",
       "    .dataframe thead th {\n",
       "        text-align: right;\n",
       "    }\n",
       "</style>\n",
       "<table border=\"1\" class=\"dataframe\">\n",
       "  <thead>\n",
       "    <tr style=\"text-align: right;\">\n",
       "      <th></th>\n",
       "      <th>endTime</th>\n",
       "      <th>artistName</th>\n",
       "      <th>trackName</th>\n",
       "      <th>secPlayed</th>\n",
       "      <th>skippedTrack</th>\n",
       "    </tr>\n",
       "  </thead>\n",
       "  <tbody>\n",
       "    <tr>\n",
       "      <th>10881</th>\n",
       "      <td>2023-01-01 01:17:00</td>\n",
       "      <td>Ariana Grande</td>\n",
       "      <td>7 rings</td>\n",
       "      <td>0.139</td>\n",
       "      <td>1</td>\n",
       "    </tr>\n",
       "    <tr>\n",
       "      <th>10882</th>\n",
       "      <td>2023-01-01 01:17:00</td>\n",
       "      <td>Ariana Grande</td>\n",
       "      <td>7 rings</td>\n",
       "      <td>0.487</td>\n",
       "      <td>1</td>\n",
       "    </tr>\n",
       "    <tr>\n",
       "      <th>10883</th>\n",
       "      <td>2023-01-01 01:17:00</td>\n",
       "      <td>Ariana Grande</td>\n",
       "      <td>positions</td>\n",
       "      <td>0.417</td>\n",
       "      <td>1</td>\n",
       "    </tr>\n",
       "    <tr>\n",
       "      <th>10887</th>\n",
       "      <td>2023-01-01 01:17:00</td>\n",
       "      <td>Ariana Grande</td>\n",
       "      <td>Santa Baby</td>\n",
       "      <td>12.293</td>\n",
       "      <td>1</td>\n",
       "    </tr>\n",
       "    <tr>\n",
       "      <th>10888</th>\n",
       "      <td>2023-01-01 01:17:00</td>\n",
       "      <td>Ariana Grande</td>\n",
       "      <td>Right There (feat. Big Sean)</td>\n",
       "      <td>22.929</td>\n",
       "      <td>1</td>\n",
       "    </tr>\n",
       "    <tr>\n",
       "      <th>...</th>\n",
       "      <td>...</td>\n",
       "      <td>...</td>\n",
       "      <td>...</td>\n",
       "      <td>...</td>\n",
       "      <td>...</td>\n",
       "    </tr>\n",
       "    <tr>\n",
       "      <th>167415</th>\n",
       "      <td>2023-12-07 17:46:00</td>\n",
       "      <td>Ariana Grande</td>\n",
       "      <td>Almost Is Never Enough</td>\n",
       "      <td>28.483</td>\n",
       "      <td>1</td>\n",
       "    </tr>\n",
       "    <tr>\n",
       "      <th>167422</th>\n",
       "      <td>2023-12-07 20:51:00</td>\n",
       "      <td>Ariana Grande</td>\n",
       "      <td>needy</td>\n",
       "      <td>26.220</td>\n",
       "      <td>1</td>\n",
       "    </tr>\n",
       "    <tr>\n",
       "      <th>167428</th>\n",
       "      <td>2023-12-07 21:13:00</td>\n",
       "      <td>Ariana Grande</td>\n",
       "      <td>pete davidson</td>\n",
       "      <td>0.603</td>\n",
       "      <td>1</td>\n",
       "    </tr>\n",
       "    <tr>\n",
       "      <th>167435</th>\n",
       "      <td>2023-12-07 21:13:00</td>\n",
       "      <td>Ariana Grande</td>\n",
       "      <td>off the table (with The Weeknd)</td>\n",
       "      <td>13.448</td>\n",
       "      <td>1</td>\n",
       "    </tr>\n",
       "    <tr>\n",
       "      <th>167436</th>\n",
       "      <td>2023-12-07 21:14:00</td>\n",
       "      <td>Ariana Grande</td>\n",
       "      <td>my hair</td>\n",
       "      <td>23.757</td>\n",
       "      <td>1</td>\n",
       "    </tr>\n",
       "  </tbody>\n",
       "</table>\n",
       "<p>19337 rows × 5 columns</p>\n",
       "</div>"
      ],
      "text/plain": [
       "                   endTime     artistName                        trackName  \\\n",
       "10881  2023-01-01 01:17:00  Ariana Grande                          7 rings   \n",
       "10882  2023-01-01 01:17:00  Ariana Grande                          7 rings   \n",
       "10883  2023-01-01 01:17:00  Ariana Grande                        positions   \n",
       "10887  2023-01-01 01:17:00  Ariana Grande                       Santa Baby   \n",
       "10888  2023-01-01 01:17:00  Ariana Grande     Right There (feat. Big Sean)   \n",
       "...                    ...            ...                              ...   \n",
       "167415 2023-12-07 17:46:00  Ariana Grande           Almost Is Never Enough   \n",
       "167422 2023-12-07 20:51:00  Ariana Grande                            needy   \n",
       "167428 2023-12-07 21:13:00  Ariana Grande                    pete davidson   \n",
       "167435 2023-12-07 21:13:00  Ariana Grande  off the table (with The Weeknd)   \n",
       "167436 2023-12-07 21:14:00  Ariana Grande                          my hair   \n",
       "\n",
       "        secPlayed  skippedTrack  \n",
       "10881       0.139             1  \n",
       "10882       0.487             1  \n",
       "10883       0.417             1  \n",
       "10887      12.293             1  \n",
       "10888      22.929             1  \n",
       "...           ...           ...  \n",
       "167415     28.483             1  \n",
       "167422     26.220             1  \n",
       "167428      0.603             1  \n",
       "167435     13.448             1  \n",
       "167436     23.757             1  \n",
       "\n",
       "[19337 rows x 5 columns]"
      ]
     },
     "execution_count": 222,
     "metadata": {},
     "output_type": "execute_result"
    }
   ],
   "source": [
    "df_ariana"
   ]
  },
  {
   "cell_type": "code",
   "execution_count": 223,
   "metadata": {},
   "outputs": [
    {
     "name": "stdout",
     "output_type": "stream",
     "text": [
      "<class 'pandas.core.frame.DataFrame'>\n",
      "Index: 19337 entries, 10881 to 167436\n",
      "Data columns (total 5 columns):\n",
      " #   Column        Non-Null Count  Dtype         \n",
      "---  ------        --------------  -----         \n",
      " 0   endTime       19337 non-null  datetime64[ns]\n",
      " 1   artistName    19337 non-null  object        \n",
      " 2   trackName     19337 non-null  object        \n",
      " 3   secPlayed     19337 non-null  float64       \n",
      " 4   skippedTrack  19337 non-null  int64         \n",
      "dtypes: datetime64[ns](1), float64(1), int64(1), object(2)\n",
      "memory usage: 906.4+ KB\n"
     ]
    }
   ],
   "source": [
    "df_ariana.info()"
   ]
  },
  {
   "cell_type": "code",
   "execution_count": 224,
   "metadata": {},
   "outputs": [
    {
     "name": "stdout",
     "output_type": "stream",
     "text": [
      "<class 'pandas.core.frame.DataFrame'>\n",
      "Index: 156539 entries, 10881 to 167438\n",
      "Data columns (total 5 columns):\n",
      " #   Column        Non-Null Count   Dtype         \n",
      "---  ------        --------------   -----         \n",
      " 0   endTime       156539 non-null  datetime64[ns]\n",
      " 1   artistName    156539 non-null  object        \n",
      " 2   trackName     156539 non-null  object        \n",
      " 3   secPlayed     156539 non-null  float64       \n",
      " 4   skippedTrack  156539 non-null  int64         \n",
      "dtypes: datetime64[ns](1), float64(1), int64(1), object(2)\n",
      "memory usage: 7.2+ MB\n"
     ]
    }
   ],
   "source": [
    "df3.info()"
   ]
  },
  {
   "cell_type": "markdown",
   "metadata": {},
   "source": [
    "#### 4.1 Average skip rate\n",
    "Create a histogram of the distribution of the skip-rate values of the different artists in your DataFrame  `df_skipped`, with skip rates on one axis and number of artists on the other. \\\n",
    "\\\n",
    "Then, retrieve the skip rate for Ariana Grande from your DataFrame `df_skipped`. Run the code in the cell below. Where on this distribution does Ariana Grande fall? Do I skip her songs more than average, or less?"
   ]
  },
  {
   "cell_type": "code",
   "execution_count": 225,
   "metadata": {},
   "outputs": [
    {
     "data": {
      "image/png": "[encoded data removed]",
      "text/plain": [
       "<Figure size 1000x600 with 1 Axes>"
      ]
     },
     "metadata": {},
     "output_type": "display_data"
    },
    {
     "name": "stdout",
     "output_type": "stream",
     "text": [
      "Skip rate for Ariana Grande: 99.52939959662822\n"
     ]
    }
   ],
   "source": [
    "# Plotting a histogram of skip-rate values\n",
    "plt.figure(figsize=(10, 6))\n",
    "plt.hist(df_skipped['SkipRate'], bins=20, color='skyblue', edgecolor='black')\n",
    "plt.title('Distribution of Skip-Rate Values')\n",
    "plt.xlabel('Skip Rate (%)')\n",
    "plt.ylabel('Number of Artists')\n",
    "plt.grid(True)\n",
    "plt.show()\n",
    "\n",
    "# Retrieving the skip rate for Ariana Grande\n",
    "ariana_grande_skip_rate = df_skipped.loc['Ariana Grande', 'SkipRate']\n",
    "print(\"Skip rate for Ariana Grande:\", ariana_grande_skip_rate)"
   ]
  },
  {
   "cell_type": "code",
   "execution_count": 226,
   "metadata": {},
   "outputs": [],
   "source": [
    "count_skipped_artist_df = df_skipped[df_skipped['SkipRate'] >= 90]"
   ]
  },
  {
   "cell_type": "code",
   "execution_count": 227,
   "metadata": {},
   "outputs": [
    {
     "name": "stdout",
     "output_type": "stream",
     "text": [
      "<class 'pandas.core.frame.DataFrame'>\n",
      "Index: 181 entries, A Problem Squared to Édith Piaf\n",
      "Data columns (total 3 columns):\n",
      " #   Column        Non-Null Count  Dtype  \n",
      "---  ------        --------------  -----  \n",
      " 0   TotalSongs    181 non-null    int64  \n",
      " 1   SkippedTrack  181 non-null    int64  \n",
      " 2   SkipRate      181 non-null    float64\n",
      "dtypes: float64(1), int64(2)\n",
      "memory usage: 5.7+ KB\n"
     ]
    }
   ],
   "source": [
    "count_skipped_artist_df.info()"
   ]
  },
  {
   "cell_type": "code",
   "execution_count": 228,
   "metadata": {},
   "outputs": [
    {
     "name": "stdout",
     "output_type": "stream",
     "text": [
      "<class 'pandas.core.frame.DataFrame'>\n",
      "Index: 956 entries, 10cc to Édith Piaf\n",
      "Data columns (total 3 columns):\n",
      " #   Column        Non-Null Count  Dtype  \n",
      "---  ------        --------------  -----  \n",
      " 0   TotalSongs    956 non-null    int64  \n",
      " 1   SkippedTrack  956 non-null    int64  \n",
      " 2   SkipRate      956 non-null    float64\n",
      "dtypes: float64(1), int64(2)\n",
      "memory usage: 62.2+ KB\n"
     ]
    }
   ],
   "source": [
    "df_skipped.info()"
   ]
  },
  {
   "cell_type": "markdown",
   "metadata": {},
   "source": [
    "### Part 4: Questions\n",
    "Q1: Did I skip a lot of Ariana Grande's songs, or did I not, compared to the rest of the dataset? \\\n",
    "Answer1: As we can see skip rate is close to 100%, so a lot of songs of Ariana Grande is Skipped. Compare to the rest of the dataset we can see that 20% (181 out 956) of the artist's song skipped more than 80%. \\\n",
    "Q2: What might be some possible reasons for Ariana Grande to be my nr.1 artist? \\\n",
    "Answe2: In the dataset of 2023 spotify data we can see out of 156539 tracks there are 19337 tracks of Ariana Grande. And so many of songs are skipped so that makes Ariana the no. 1 artist."
   ]
  }
 ],
 "metadata": {
  "kernelspec": {
   "display_name": "base",
   "language": "python",
   "name": "python3"
  },
  "language_info": {
   "codemirror_mode": {
    "name": "ipython",
    "version": 3
   },
   "file_extension": ".py",
   "mimetype": "text/x-python",
   "name": "python",
   "nbconvert_exporter": "python",
   "pygments_lexer": "ipython3",
   "version": "3.10.8"
  }
 },
 "nbformat": 4,
 "nbformat_minor": 2
}
